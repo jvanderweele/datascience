{
 "cells": [
  {
   "cell_type": "code",
   "execution_count": 100,
   "metadata": {
    "code_folding": [
     0
    ]
   },
   "outputs": [],
   "source": [
    "# execute to import notebook styling for tables and width etc.\n",
    "from IPython.core.display import HTML\n",
    "import urllib.request\n",
    "response = urllib.request.urlopen('https://raw.githubusercontent.com/DataScienceUWL/DS775v2/master/ds755.css')\n",
    "HTML(response.read().decode(\"utf-8\"));"
   ]
  },
  {
   "cell_type": "markdown",
   "metadata": {},
   "source": [
    "<font size=18>Lesson 06 Homework</font>"
   ]
  },
  {
   "cell_type": "markdown",
   "metadata": {},
   "source": [
    "# Textbook Problem 12.2-4"
   ]
  },
  {
   "cell_type": "markdown",
   "metadata": {},
   "source": [
    "Reconsider the Wyndor Glass Co. problem presented in Sec. 3.1. Management now has decided that **only one** of the two new products should be produced, and the choice is to be made on the basis of maximizing profit. Introduce auxiliary binary variables to formulate an MIP model for this new version of the problem.\n",
    "\n",
    "(a) Introduce auxiliary binary variables to formulate a mixed BIP model for this problem. Include a picture or LaTeX of the mathematical formulation in the next cell.\n",
    "\n",
    "<font color = \"blue\"> *** 4 points -  answer in cell below *** (don't delete this cell) </font>"
   ]
  },
  {
   "cell_type": "markdown",
   "metadata": {},
   "source": [
    "Letting $Z$ be total profit in thousands of dollars,\n",
    "\n",
    "Maximize $Z = 3 d + 5 w$\n",
    "\n",
    "Subject to:\n",
    "\n",
    "$\n",
    "y_1 + y_2 = 1 \\\\\n",
    "    \\\\\n",
    "\\begin{array}{ccccc}\n",
    " d &   &    & \\leq & 4 \\\\\n",
    "   &   & 2w & \\leq & 12 \\\\\n",
    "3d & + & 2w & \\leq & 18\n",
    "\\end{array}\n",
    "$\n",
    "\n",
    "$d \\geq 0$, $w \\geq 0 \\\\$\n",
    "$0 \\leq x_i \\leq y_i, \\text{ for } i=1,2 \\\\$\n",
    "$y_i \\text{ binary, for } i=1, 2 \\\\$\n"
   ]
  },
  {
   "cell_type": "markdown",
   "metadata": {},
   "source": [
    "b) Use Pyomo to solve this model. You can use a concrete or an abstract formulation.\n",
    "\n",
    "<font color = \"blue\"> *** 6 points -  answer in cell below *** (don't delete this cell) </font>\n"
   ]
  },
  {
   "cell_type": "code",
   "execution_count": 101,
   "metadata": {},
   "outputs": [
    {
     "name": "stdout",
     "output_type": "stream",
     "text": [
      "Maximum Profit =  $5,000.00\n",
      "Produce Windows.\n",
      "Produce 1.0 batches of windows to maximize profit per batch\n"
     ]
    }
   ],
   "source": [
    "# unfold for code\n",
    "from pyomo.environ import *\n",
    "\n",
    "m = ConcreteModel(name=\"Wyndor\")\n",
    "\n",
    "m.x1 = Var(domain = NonNegativeReals) #this makes >= 0, so no need to declare in constraints\n",
    "m.x2 = Var(domain = NonNegativeReals) #this makes >= 0, so no need to declare in constraints\n",
    "\n",
    "m.y1 = Var(domain=Boolean) #This declares y_i as binary\n",
    "m.y2 = Var(domain=Boolean) #This declares y_i as binary\n",
    "\n",
    "\n",
    "m.profit = Objective( expr = 3*m.x1 + 5*m.x2, sense = maximize)\n",
    "\n",
    "# Constraints:\n",
    "m.cts = ConstraintList()\n",
    "m.cts.add( m.y1 + m.y2 == 1)\n",
    "m.cts.add( 1 * m.x1              <= 4)\n",
    "m.cts.add(              2 * m.x2  <= 12)\n",
    "m.cts.add( 3 * m.x1  +  2 * m.x2  <= 18)\n",
    "m.cts.add( m.x1 <= m.y1)\n",
    "m.cts.add( m.x2 <= m.y2)\n",
    "\n",
    "\n",
    "# Solve\n",
    "solver = SolverFactory('glpk')\n",
    "solver.solve(m)\n",
    "\n",
    "import babel.numbers as numbers  # needed to display as currency\n",
    "print(\"Maximum Profit = \",\n",
    "      numbers.format_currency(1000 * m.profit(), 'USD', locale='en_US')) #in thousands, correct\n",
    "\n",
    "print(\"Produce Doors.\" if m.y1() else \"Produce Windows.\" )\n",
    "\n",
    "if m.y1():\n",
    "    print('Produce {:0.1f} batches of doors to maximize profit per batch'.format(m.x1()))\n",
    "    \n",
    "if m.y2():\n",
    "    print('Produce {:0.1f} batches of windows to maximize profit per batch'.format(m.x2()))\n"
   ]
  },
  {
   "cell_type": "markdown",
   "metadata": {},
   "source": [
    "# Textbook Problem 12.3-1"
   ]
  },
  {
   "cell_type": "markdown",
   "metadata": {},
   "source": [
    "The Research and Development Division of the Progressive Company has been developing four possible new product lines. Management must now make a decision as to which of these four products actually will be produced and at what levels. Therefore, an operations research study has been requested to find the most profitable product mix.\n",
    "\n",
    "A substantial cost is associated with beginning the production of any product, as given in the first row of the following table. Management’s objective is to find the product mix that maximizes the total profit (total net revenue minus start-up costs).\n",
    "\n",
    "<img src=\"images/screen-prob12_3-1.png\" alt=\"Solution\" width=\"350\" height=\"150\">\n",
    "\n",
    "Let the continuous decision variables $x_1, x_2, x_3,$ and $x_4$ be the production levels of products 1, 2, 3, and 4, respectively. Management has imposed the following policy constraints on these variables:\n",
    "\n",
    "1. No more than two of the products can be produced.\n",
    "\n",
    "2. Either product 3 or 4 can be produced only if either product 1 or 2 is produced.\n",
    "\n",
    "3. Either \n",
    "\n",
    "$$5x_1 + 3x_2 + 6x_3 + 4x_4 \\leq  6,000 $$\n",
    "\n",
    "$$\\text{or}$$ \n",
    "\n",
    "$$4x_1 + 6x_2 + 3x_3 + 5x_4 \\leq 6,000 $$.\n",
    "\n",
    "(a) Introduce auxiliary binary variables to formulate a mixed BIP model for this problem.  Include a picture or LaTeX of the mathematical formulation in the next cell.\n",
    "\n",
    "<font color = \"blue\"> *** 6 points -  answer in cell below *** (don't delete this cell) </font>"
   ]
  },
  {
   "cell_type": "markdown",
   "metadata": {},
   "source": [
    "Maximize $Z = 70*x_1 + 60*x_2 + 90*x_3 + 80*x_4 - (50000*y_1 + 40000*y_2 + 70000*y_3 + 60000*y_4) $\n",
    "\n",
    "Subject to:\n",
    "\n",
    "$\n",
    "\\begin{array}{l}\n",
    "y_1 + y_2 + y_3 + y_4 = 2 \\\\\n",
    "x_3 \\leq x_1 + x_2 \\\\\n",
    "x_4 \\leq x_1 + x_2 \\\\\n",
    "5x_1 + 3x_2 + 6x_3 + 4x_4 \\leq  6000 + M*y_5 \\\\ \n",
    "4x_1 + 6x_2 + 3x_3 + 5x_4 \\leq 6000 + M*(1-y_5) \\\\\n",
    "0 \\leq x_i \\leq My_i, \\text{ for } i=1,2,3,4 \\\\\n",
    "x_i \\geq 0, \\text{ for } i=1, 2, 3, 4  \\\\\n",
    "y_i \\text{ binary, for } i=1, 2, 3, 4 \\\\\n",
    "\\end{array}\n",
    "$\n",
    "\n"
   ]
  },
  {
   "cell_type": "markdown",
   "metadata": {},
   "source": [
    "(b) Use Pyomo to solve this model. Use an abstract formulation.\n",
    "\n",
    "<font color = \"blue\"> *** 10 points -  answer in cell below *** (don't delete this cell) </font>"
   ]
  },
  {
   "cell_type": "code",
   "execution_count": 102,
   "metadata": {},
   "outputs": [
    {
     "name": "stdout",
     "output_type": "stream",
     "text": [
      "Maximum Profit =  $80,000.00\n",
      "\n",
      "Which products and how many:\n",
      "Do not produce Product1\n",
      "Produce Product2 at a 2000.00 unit level\n",
      "Do not produce Product3\n",
      "Do not produce Product4\n"
     ]
    }
   ],
   "source": [
    "# unfold for code\n",
    "from pyomo.environ import *\n",
    "\n",
    "# Problem data\n",
    "products = ['Product1', 'Product2', 'Product3', 'Product4']\n",
    "unit_revenue = dict(zip(products, [70, 60, 90, 80]))\n",
    "startup_cost = dict(zip(products, [50000, 40000, 70000, 60000]))\n",
    "\n",
    "line_item_constraint1 = dict(zip(products, [5, 3, 6, 4]))\n",
    "line_item_constraint2 = dict(zip(products, [4, 6, 3, 5]))\n",
    "\n",
    "bigM = 1000000\n",
    "\n",
    "num_products_to_choose = 2\n",
    "\n",
    "# Instantiate concrete model\n",
    "M = ConcreteModel(name=\"Production\")\n",
    "\n",
    "# Decision Variables\n",
    "M.x = Var(products, domain=NonNegativeReals) #x>= 0\n",
    "M.y = Var(products, domain=Boolean) #binary y/n to produce\n",
    "M.y5 = Var(domain=Boolean) #for Big M, binary\n",
    "\n",
    "# Objective:  Maximize Profit\n",
    "M.profit = Objective(expr=sum((unit_revenue[pr] * M.x[pr] - startup_cost[pr] * M.y[pr]) for pr in products),\n",
    "                     sense=maximize)\n",
    "\n",
    "# Constraints:\n",
    "M.constraints = ConstraintList()\n",
    "\n",
    "# produce product only if product is chosen\n",
    "for pr in products: \n",
    "    M.constraints.add(M.x[pr] <= bigM * M.y[pr])\n",
    "\n",
    "# Must have 1/2 if have 3/4.\n",
    "M.constraints.add(M.x['Product3'] <= M.x['Product2'] + M.x['Product1'])\n",
    "M.constraints.add(M.x['Product4'] <= M.x['Product2'] + M.x['Product1'])\n",
    "\n",
    "# choose 2 products\n",
    "M.constraints.add(sum(M.y[pr] for pr in products) <= num_products_to_choose)\n",
    "\n",
    "\n",
    "#Loop within a sum function, the \"OR\" for capacities\n",
    "# production capacities #1\n",
    "M.constraints.add(sum(line_item_constraint1[pr] * M.x[pr] for pr in products) <= 6000 + bigM * M.y5)\n",
    "# production capacities #2\n",
    "M.constraints.add(sum(line_item_constraint2[pr] * M.x[pr] for pr in products) <= 6000 + bigM * (1-M.y5))\n",
    "\n",
    "\n",
    "# Solve\n",
    "solver = SolverFactory('glpk')\n",
    "solver.solve(M)\n",
    "\n",
    "import babel.numbers as numbers  # needed to display as currency\n",
    "print(\"Maximum Profit = \",\n",
    "      numbers.format_currency( M.profit(), 'USD', locale='en_US'))\n",
    "\n",
    "print(\"\\nWhich products and how many:\")\n",
    "for pr in products:\n",
    "    if bool(M.y[pr]()):\n",
    "        print(\"Produce {} \".format(pr) + \"at a {:1.2f} unit level\".format(M.x[pr]() ) )\n",
    "    else:\n",
    "        print(\"Do not produce {}\".format(pr) )\n"
   ]
  },
  {
   "cell_type": "markdown",
   "metadata": {},
   "source": [
    "# Textbook Problem 12.4-6"
   ]
  },
  {
   "cell_type": "markdown",
   "metadata": {},
   "source": [
    "Speedy Delivery provides two-day delivery service of large parcels across the United States. Each morning at each collection center, the parcels that have arrived overnight are loaded onto several trucks for delivery throughout the area. Since the competitive battlefield in this business is speed of delivery, the parcels are divided among the trucks according to their geographical destinations to minimize the average time needed to make the deliveries.\n",
    "\n",
    "On this particular morning, the dispatcher for the Blue River Valley Collection Center, Sharon Lofton, is hard at work. Her three drivers will be arriving in less than an hour to make the day’s deliveries. There are nine parcels to be delivered, all at locations many miles apart. As usual, Sharon has loaded these locations into her computer. She is using her company’s special software package, a decision support system called Dispatcher. The first thing Dispatcher does is use these locations to generate a considerable number of attractive possible routes for the individual delivery trucks. These routes are shown in the following table (where the numbers in each column indicate the order of the deliveries), along with the estimated time required to traverse the route.\n",
    "\n",
    "<img src=\"images/screen-prob12_4-6.png\" alt=\"Solution\" width=\"350\" height=\"150\">\n",
    "\n",
    "\n",
    "Dispatcher is an interactive system that shows these routes to Sharon for her approval or modification. (For example, the computer may not know that flooding has made a particular route infeasible.) After Sharon approves these routes as attractive possibilities with reasonable time estimates, Dispatcher next formulates and solves a BIP model for selecting three routes that minimize their total time while including each delivery location on exactly one route. This morning, Sharon does approve all the routes.\n",
    "\n",
    "(a) Formulate this BIP model.  Include a picture or LaTeX of the mathematical formulation in the next cell.\n",
    "\n",
    "<font color = \"blue\"> *** 6 points -  answer in cell below *** (don't delete this cell) </font>"
   ]
  },
  {
   "cell_type": "markdown",
   "metadata": {},
   "source": [
    "Minimize $Z = 6x_1 + 4x_2 + 7x_3 + 5x_4 + 4x_5 + 6x_6 + 5x_7 + 3x_8 + 7x_9 + 6x_{10} $\n",
    "\n",
    "Subject to:\n",
    "\n",
    "$\n",
    "\\begin{array}{l}\n",
    "A: x_1 + x_5 + x_9 = 1 \\\\\n",
    "B: x_2 + x_4 + x_6 + x_9 + x_{10} = 1 \\\\\n",
    "C: x_3 + x_4 + x_7 + x_9 = 1 \\\\\n",
    "D: x_1 + x_6 + x_8 = 1 \\\\\n",
    "E: x_3 + x_4 + x_6 = 1 \\\\\n",
    "F: x_2 + x_5 = 1 \\\\\n",
    "G: x_1 + x_7 + x_8 + x_{10} = 1 \\\\\n",
    "H: x_3 + x_5 + x_{10} = 1 \\\\\n",
    "I: x_2 + x_4 + x_7 = 1 \\\\\n",
    "\\\\\n",
    "x_j \\text{ binary, for } j=1, 2, 3, 4,...,10 \\\\\n",
    "\\\\\n",
    "\\text{Three Drivers: }\\sum\\limits_{j=1}^{10} x_j = 3 \\\\\n",
    "\\\\\n",
    "\\end{array}\n",
    "$"
   ]
  },
  {
   "cell_type": "markdown",
   "metadata": {},
   "source": [
    "(b) Use Pyomo solve this model.  Use an abstract formulation.\n",
    "\n",
    "<font color = \"blue\"> *** 10 points -  answer in cell below *** (don't delete this cell) </font>"
   ]
  },
  {
   "cell_type": "code",
   "execution_count": 1,
   "metadata": {},
   "outputs": [
    {
     "name": "stdout",
     "output_type": "stream",
     "text": [
      "The total time of delivery is 12 hours.\n",
      "Send Driver on Route1 ?  No\n",
      "Send Driver on Route2 ?  No\n",
      "Send Driver on Route3 ?  No\n",
      "Send Driver on Route4 ?  Yes\n",
      "Send Driver on Route5 ?  Yes\n",
      "Send Driver on Route6 ?  No\n",
      "Send Driver on Route7 ?  No\n",
      "Send Driver on Route8 ?  Yes\n",
      "Send Driver on Route9 ?  No\n",
      "Send Driver on Route10 ?  No\n"
     ]
    }
   ],
   "source": [
    "# Unfold for code\n",
    "from pyomo.environ import *\n",
    "decisions = ['Route1', 'Route2', 'Route3', 'Route4', 'Route5', 'Route6', 'Route7', 'Route8', 'Route9', 'Route10']\n",
    "packages = ['A', 'B', 'C', 'D', 'E', 'F', 'G', 'H', 'I']\n",
    "time = dict(zip(decisions, [6, 4, 7, 5, 4, 6, 5, 3, 7, 6]))\n",
    "\n",
    "#Concrete Model\n",
    "model = ConcreteModel()\n",
    "\n",
    "#Decision Variables\n",
    "model.build = Var(decisions, domain=Boolean)\n",
    "\n",
    "#Objective\n",
    "model.time = Objective(expr=sum(time[d] * model.build[d] for d in decisions), sense=minimize)\n",
    "\n",
    "#Set up package coefficient constraints:\n",
    "packages = ['A', 'B', 'C', 'D', 'E', 'F', 'G', 'H', 'I']\n",
    "coefs = {'A':dict(zip(decisions,[1, 0, 0, 0, 1, 0, 0, 0, 1, 0])),\n",
    "         'B':dict(zip(decisions,[0, 1, 0, 1, 0, 1, 0, 0, 1, 1])),\n",
    "         'C':dict(zip(decisions,[0, 0, 1, 1, 0, 0, 1, 0, 1, 0])),\n",
    "         'D':dict(zip(decisions,[1, 0, 0, 0, 0, 1, 0, 1, 0, 0])),\n",
    "         'E':dict(zip(decisions,[0, 0, 1, 1, 0, 1, 0, 0, 0, 0])),\n",
    "         'F':dict(zip(decisions,[0, 1, 0, 0, 1, 0, 0, 0, 0, 0])),\n",
    "         'G':dict(zip(decisions,[1, 0, 0, 0, 0, 0, 1, 1, 0, 1])),\n",
    "         'H':dict(zip(decisions,[0, 0, 1, 0, 1, 0, 0, 0, 0, 1])),\n",
    "         'I':dict(zip(decisions,[0, 1, 0, 1, 0, 0, 1, 0, 0, 0]))}\n",
    "rhs = dict(zip(packages,[1,1,1,1,1,1,1,1,1]))\n",
    "\n",
    "####Constraints:\n",
    "model.constraints = ConstraintList()\n",
    "#Coefficients of the final outcome\n",
    "for p in packages:\n",
    "    model.constraints.add( expr = sum(coefs[p][d]*model.build[d] for d in decisions) == rhs[p])\n",
    "\n",
    "#Only allow 3 and only 3 routes:\n",
    "model.constraints.add(expr = sum(model.build[d] for d in decisions) == 3)\n",
    "\n",
    "# Solve\n",
    "solver = SolverFactory('glpk')\n",
    "solver.solve(model)\n",
    "\n",
    "# display solution\n",
    "import babel.numbers as numbers  # needed to display as currency\n",
    "print(\"The total time of delivery is \"+ \n",
    "      numbers.format_number(model.time())+\" hours.\")\n",
    "for d in decisions:\n",
    "    print(\"Send Driver on {} ?  \".format(d) + [\"No\",\"Yes\"][int(model.build[d]())] )\n"
   ]
  },
  {
   "cell_type": "markdown",
   "metadata": {},
   "source": [
    "# Knapsack optimization"
   ]
  },
  {
   "cell_type": "markdown",
   "metadata": {},
   "source": [
    "We'll revisit the Knapsack Optimization problem from Lesson 4 and 5. This time, we'll solve it using integer programming.\n",
    "\n",
    "Given a set of items, each with a weight and a value, use binary variables and Pyomo to determine which items to include in a collection such that the total weight is less than or equal to a given limit and the total value is as large as possible. We will start with 20 items and you need to determine the collection of items that maximizes the value and keeps the total weight less than or equal to 50. \n",
    "\n",
    "Use the problem data as described below:"
   ]
  },
  {
   "cell_type": "code",
   "execution_count": 104,
   "metadata": {},
   "outputs": [],
   "source": [
    "#Problem Data - generate random weights and values for a knapsack problem\n",
    "import numpy as np\n",
    "num_items = 20 #Switch between 20/40 items\n",
    "np.random.seed(seed=123)\n",
    "values = np.random.randint(low=5, high=50, size=num_items)\n",
    "weights = np.random.randint(low=1, high=10, size=num_items)\n",
    "np.random.seed() # use system clock to reset the seed so future random numbers will appear random"
   ]
  },
  {
   "cell_type": "markdown",
   "metadata": {},
   "source": [
    "Your Pyomo solution should go in the next cell.  Your code should still work if the number of items is changed to 40 or more.\n",
    "\n",
    "<font color = \"blue\"> *** 8 points -  answer in cell below *** (don't delete this cell) </font>"
   ]
  },
  {
   "cell_type": "code",
   "execution_count": 105,
   "metadata": {},
   "outputs": [
    {
     "name": "stdout",
     "output_type": "stream",
     "text": [
      "The total value of items is $435.\n",
      "Include item 1 ?  Yes\n",
      "Include item 2 ?  No\n",
      "Include item 3 ?  Yes\n",
      "Include item 4 ?  Yes\n",
      "Include item 5 ?  No\n",
      "Include item 6 ?  No\n",
      "Include item 7 ?  Yes\n",
      "Include item 8 ?  Yes\n",
      "Include item 9 ?  Yes\n",
      "Include item 10 ?  Yes\n",
      "Include item 11 ?  No\n",
      "Include item 12 ?  Yes\n",
      "Include item 13 ?  Yes\n",
      "Include item 14 ?  No\n",
      "Include item 15 ?  Yes\n",
      "Include item 16 ?  No\n",
      "Include item 17 ?  Yes\n",
      "Include item 18 ?  Yes\n",
      "Include item 19 ?  Yes\n",
      "Include item 20 ?  No\n",
      "Total weight of the knapsack:  50.0\n"
     ]
    }
   ],
   "source": [
    "from pyomo.environ import *\n",
    "max_weight = 50\n",
    "\n",
    "#Concrete Model\n",
    "model = ConcreteModel(name = \"Knapsack\")\n",
    "\n",
    "#Decision Variables\n",
    "model.y = Var(range(num_items), domain=Boolean) #<- 0's and 1's\n",
    "\n",
    "#Objective\n",
    "model.value = Objective(expr=sum(values[y] * model.y[y] for y in model.y), sense=maximize)\n",
    "\n",
    "####Constraints:\n",
    "model.constraints = ConstraintList()\n",
    "\n",
    "#Weights of the final outcome\n",
    "model.constraints.add( expr = sum(weights[y]*model.y[y] for y in model.y) <= max_weight)\n",
    "\n",
    "# Solve\n",
    "solver = SolverFactory('glpk')\n",
    "solver.solve(model)\n",
    "\n",
    "# display solution\n",
    "import babel.numbers as numbers  # needed to display as currency\n",
    "print(\"The total value of items is $\"+ \n",
    "      numbers.format_number(model.value())+\".\")\n",
    "for y in model.y:\n",
    "    print(\"Include item {} ?  \".format(y + 1) + [\"No\",\"Yes\"][int(model.y[y]())] ) #added plus one so we don't have item zero\n",
    "\n",
    "#Print the total weight:\n",
    "myvar = 0\n",
    "for each in model.y:\n",
    "    myvar += model.y[each]() * weights[each]\n",
    "print('Total weight of the knapsack:  {}'.format(myvar))"
   ]
  },
  {
   "cell_type": "markdown",
   "metadata": {},
   "source": [
    "###Original cell, keep if needed.\n",
    "from pyomo.environ import *\n",
    "\n",
    "model.y = Var(range(20),domain=boolean) <- 0's and 1's\n",
    "\n",
    "v1 * y1 + v2 * y2 + ...\n",
    "\n"
   ]
  }
 ],
 "metadata": {
  "kernelspec": {
   "display_name": "Python 3",
   "language": "python",
   "name": "python3"
  },
  "language_info": {
   "codemirror_mode": {
    "name": "ipython",
    "version": 3
   },
   "file_extension": ".py",
   "mimetype": "text/x-python",
   "name": "python",
   "nbconvert_exporter": "python",
   "pygments_lexer": "ipython3",
   "version": "3.7.4"
  },
  "toc": {
   "base_numbering": 1,
   "nav_menu": {},
   "number_sections": true,
   "sideBar": true,
   "skip_h1_title": false,
   "title_cell": "Table of Contents",
   "title_sidebar": "Contents",
   "toc_cell": false,
   "toc_position": {
    "height": "calc(100% - 180px)",
    "left": "10px",
    "top": "150px",
    "width": "263.082px"
   },
   "toc_section_display": true,
   "toc_window_display": true
  },
  "varInspector": {
   "cols": {
    "lenName": 16,
    "lenType": 16,
    "lenVar": 40
   },
   "kernels_config": {
    "python": {
     "delete_cmd_postfix": "",
     "delete_cmd_prefix": "del ",
     "library": "var_list.py",
     "varRefreshCmd": "print(var_dic_list())"
    },
    "r": {
     "delete_cmd_postfix": ") ",
     "delete_cmd_prefix": "rm(",
     "library": "var_list.r",
     "varRefreshCmd": "cat(var_dic_list()) "
    }
   },
   "types_to_exclude": [
    "module",
    "function",
    "builtin_function_or_method",
    "instance",
    "_Feature"
   ],
   "window_display": false
  }
 },
 "nbformat": 4,
 "nbformat_minor": 4
}
