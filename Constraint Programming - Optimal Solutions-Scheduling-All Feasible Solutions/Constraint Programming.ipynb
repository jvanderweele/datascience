{
 "cells": [
  {
   "cell_type": "markdown",
   "metadata": {
    "collapsed": false
   },
   "source": [
    "<font size=16>Homework 07: Constraint Programming</font>"
   ]
  },
  {
   "cell_type": "markdown",
   "metadata": {
    "collapsed": false
   },
   "source": [
    "# Textbook Problem 12.9-2"
   ]
  },
  {
   "cell_type": "markdown",
   "metadata": {
    "collapsed": false
   },
   "source": [
    "Consider the following problem:\n",
    "\n",
    "Maximize $Z = 5x_1 - x_1^2 + 8x_2 - x_2^2 + 10x_3 - x_3^2 + 15 x_4 - x_4^2 + 20 x_5 - x_5^2$\n",
    "\n",
    "subject to \n",
    "\n",
    "$ x_1 \\in \\{3,6,12\\}, x_2 \\in \\{3,6\\}, x_3 \\in \\{3,6,9,12\\}, x_4 \\in \\{6,12\\}, x_5 \\in \\{9,12,15,18\\}$\n",
    "\n",
    "$x_1, x_2, x_3, x_4, x_5$ must all be different \n",
    "\n",
    "$x_1 + x_3 + x_4 \\leq 25$\n",
    "\n",
    "**(a)** Without doing any optimization, use CP-SAT to make a list of all feasible solutions.  Your code should be easily generalizable (use an abstract approach).  \n",
    "\n",
    "<font color = \"blue\"> *** 8 points -  answer in cell below *** (don't delete this cell) </font>"
   ]
  },
  {
   "cell_type": "code",
   "execution_count": 1,
   "metadata": {
    "collapsed": false
   },
   "outputs": [
    {
     "name": "stdout",
     "output_type": "stream",
     "text": [
      "x1 = 3 x2 = 6 x3 = 9 x4 = 12 x5 = 18 \n",
      "x1 = 3 x2 = 6 x3 = 9 x4 = 12 x5 = 15 \n",
      "Status = OPTIMAL\n",
      "Number of solutions found: 2\n"
     ]
    }
   ],
   "source": [
    "# solution printer\n",
    "from ortools.sat.python import cp_model\n",
    "\n",
    "class VarArraySolutionPrinter(cp_model.CpSolverSolutionCallback):\n",
    "    \"\"\"Print intermediate solutions.\"\"\"\n",
    "\n",
    "    def __init__(self, variables):\n",
    "        cp_model.CpSolverSolutionCallback.__init__(self)\n",
    "        self.__variables = variables\n",
    "        self.__solution_count = 0\n",
    "\n",
    "    def on_solution_callback(self):\n",
    "        self.__solution_count += 1\n",
    "        for v in self.__variables:\n",
    "            print(f'{v} = {self.Value(v)}', end = ' ')\n",
    "        print()\n",
    "\n",
    "    def solution_count(self):\n",
    "        return self.__solution_count\n",
    "\n",
    "# nonlinear objective code\n",
    "from ortools.sat.python import cp_model\n",
    "\n",
    "# Create the model.\n",
    "model = cp_model.CpModel()\n",
    "\n",
    "# Creates the variables.\n",
    "num_vars = 5\n",
    "sets = [[3,6,12], [3,6], [3,6,9,12], [6,12], [9,12,15,18]]\n",
    "myvars = [f'x{i+1}' for i in range(num_vars)]\n",
    "mysqvars = [f'xsq{i+1}' for i in range(num_vars)]\n",
    "x = [model.NewIntVarFromDomain(cp_model.Domain.FromValues(sets[i]), myvars[i]) for i in range(num_vars)]\n",
    "\n",
    "mins = [min(sets[i]) for i in range(num_vars)]\n",
    "maxes = [max(sets[i]) for i in range(num_vars)]\n",
    "xsq = [model.NewIntVar(mins[i]**2, maxes[i]**2,f'xsq{i+1}') for i in range(num_vars)]\n",
    "\n",
    "# Creates the constraints.\n",
    "model.Add(x[0] + x[2] + x[3] <= 25)\n",
    "model.AddAllDifferent(x)\n",
    "[model.AddMultiplicationEquality(xsq[i], [x[i], x[i]]) for i in range(num_vars)] # NEW to enforce ysq = y*y\n",
    "\n",
    "# Creates a solver and solves the model.\n",
    "solver = cp_model.CpSolver()\n",
    "status = solver.Solve(model)\n",
    "\n",
    "# Create a solver and solve.\n",
    "solution_printer = VarArraySolutionPrinter([x[0], x[1], x[2], x[3], x[4]])\n",
    "status = solver.SearchForAllSolutions(model, solution_printer)\n",
    "\n",
    "#Print Results\n",
    "print(f'Status = {solver.StatusName(status)}')\n",
    "print(f'Number of solutions found: {solution_printer.solution_count()}')\n"
   ]
  },
  {
   "cell_type": "markdown",
   "metadata": {
    "collapsed": false
   },
   "source": [
    "**(b)** Now use CP-SAT to solve the optimization problem.  Your code should be easily generalizable (use an abstract approach).  \n",
    "\n",
    "<font color = \"blue\"> *** 8 points -  answer in cell below *** (don't delete this cell) </font>"
   ]
  },
  {
   "cell_type": "code",
   "execution_count": 2,
   "metadata": {
    "collapsed": false
   },
   "outputs": [
    {
     "name": "stdout",
     "output_type": "stream",
     "text": [
      "Maximum of objective function: 138\n",
      "\n",
      "x1 = 3\n",
      "x2 = 6\n",
      "x3 = 9\n",
      "x4 = 12\n",
      "x5 = 15\n"
     ]
    }
   ],
   "source": [
    "# solution printer\n",
    "from ortools.sat.python import cp_model\n",
    "\n",
    "class VarArraySolutionPrinter(cp_model.CpSolverSolutionCallback):\n",
    "    \"\"\"Print intermediate solutions.\"\"\"\n",
    "\n",
    "    def __init__(self, variables):\n",
    "        cp_model.CpSolverSolutionCallback.__init__(self)\n",
    "        self.__variables = variables\n",
    "        self.__solution_count = 0\n",
    "\n",
    "    def on_solution_callback(self):\n",
    "        self.__solution_count += 1\n",
    "        for v in self.__variables:\n",
    "            print(f'{v} = {self.Value(v)}', end = ' ')\n",
    "        print()\n",
    "\n",
    "    def solution_count(self):\n",
    "        return self.__solution_count\n",
    "\n",
    "# nonlinear objective code\n",
    "from ortools.sat.python import cp_model\n",
    "\n",
    "# Create the model.\n",
    "model = cp_model.CpModel()\n",
    "\n",
    "# Creates the variables.\n",
    "num_vars = 5\n",
    "sets = [[3,6,12], [3,6], [3,6,9,12], [6,12], [9,12,15,18]]\n",
    "coefs = [5,8,10,15,20] #for obj function\n",
    "myvars = [f'x{i+1}' for i in range(num_vars)]\n",
    "mysqvars = [f'xsq{i+1}' for i in range(num_vars)]\n",
    "x = [model.NewIntVarFromDomain(cp_model.Domain.FromValues(sets[i]), myvars[i]) for i in range(num_vars)]\n",
    "\n",
    "mins = [min(sets[i]) for i in range(num_vars)]\n",
    "maxes = [max(sets[i]) for i in range(num_vars)]\n",
    "xsq = [model.NewIntVar(mins[i]**2, maxes[i]**2,f'xsq{i+1}') for i in range(num_vars)]\n",
    "\n",
    "# Creates the constraints.\n",
    "model.Add(x[0] + x[2] + x[3] <= 25)\n",
    "model.AddAllDifferent(x)\n",
    "[model.AddMultiplicationEquality(xsq[i], [x[i], x[i]]) for i in range(num_vars)] # NEW to enforce ysq = y*y\n",
    "\n",
    "# Add an objective function and a direction, need not be linear\n",
    "#model.Maximize(5*x[0] -xsq[0] + 8*x[1] - xsq[1] +10*x[2] - xsq[2] + 15*x[3] - xsq[3] +20*x[4] - xsq[4])\n",
    "model.Maximize( sum( coefs[i]*x[i] - 1*xsq[i] for i in range(num_vars)) )\n",
    "\n",
    "# Creates a solver and solves the model.\n",
    "solver = cp_model.CpSolver()\n",
    "status = solver.Solve(model)\n",
    "\n",
    "#Print results\n",
    "if status == cp_model.OPTIMAL:\n",
    "    print('Maximum of objective function: %i' % solver.ObjectiveValue())\n",
    "    print()\n",
    "    [print(f'x{i+1} = %i' % solver.Value(x[i])) for i in range(num_vars)]\n"
   ]
  },
  {
   "cell_type": "markdown",
   "metadata": {
    "collapsed": false
   },
   "source": [
    "# Assignment Problem"
   ]
  },
  {
   "cell_type": "markdown",
   "metadata": {
    "collapsed": false
   },
   "source": [
    "This problem is based on textbook problem 9.1-7 \n",
    "\n",
    "The Move-It Company has two plants producing forklift trucks that then are shipped to three distribution centers. The production costs are the same at the two plants, and the cost of shipping for each truck is shown for each combination of plant and distribution center: \n",
    "\n",
    "<img src=\"./images/forklift_table.png\" width=400>\n",
    "\n",
    "A total of 60 forklift trucks are produced and shipped per week. Each plant can produce and ship any amount up to a maximum of 50 trucks per week, so there is considerable flexibility on how to divide the total production between the two plants so as to reduce shipping costs. However, each distribution center must receive exactly 20 trucks per week.\n",
    "\n",
    "The objective of management is to determine how many forklift trucks should be produced at each plant, and then what the overall shipping pattern should be to minimize total shipping cost.\n",
    "\n",
    "We are going to solve this two different ways:\n",
    "\n",
    "**(a)** *Allow product splitting.*  Each distribution center can receive forklift trucks from both plants (it's possible distribution center 1 gets 10 from A and 10 from B).    Solve this transportation by adapting abstract Pyomo code from Lesson 3.  Note that the total supply is greater than the total demand so you'll to include a dummy distribution center that receives the excess supply to turn this into a balanced transportation problem.\n",
    "\n",
    "<font color = \"blue\"> *** 8 points -  answer in cell below *** (don't delete this cell) </font>"
   ]
  },
  {
   "cell_type": "code",
   "execution_count": 3,
   "metadata": {
    "collapsed": false
   },
   "outputs": [
    {
     "name": "stdout",
     "output_type": "stream",
     "text": [
      "Minimum Total Cost per Week =  $35,000.00\n",
      "Number of trucks per week to Distribution Centers:\n"
     ]
    },
    {
     "data": {
      "text/html": [
       "<div>\n",
       "<style scoped>\n",
       "    .dataframe tbody tr th:only-of-type {\n",
       "        vertical-align: middle;\n",
       "    }\n",
       "\n",
       "    .dataframe tbody tr th {\n",
       "        vertical-align: top;\n",
       "    }\n",
       "\n",
       "    .dataframe thead th {\n",
       "        text-align: right;\n",
       "    }\n",
       "</style>\n",
       "<table border=\"1\" class=\"dataframe\">\n",
       "  <thead>\n",
       "    <tr style=\"text-align: right;\">\n",
       "      <th></th>\n",
       "      <th>DC1</th>\n",
       "      <th>DC2</th>\n",
       "      <th>DC3</th>\n",
       "      <th>Dummy</th>\n",
       "    </tr>\n",
       "  </thead>\n",
       "  <tbody>\n",
       "    <tr>\n",
       "      <th>PlantA</th>\n",
       "      <td>20.0</td>\n",
       "      <td>20.0</td>\n",
       "      <td>10.0</td>\n",
       "      <td>0.0</td>\n",
       "    </tr>\n",
       "    <tr>\n",
       "      <th>PlantB</th>\n",
       "      <td>0.0</td>\n",
       "      <td>0.0</td>\n",
       "      <td>10.0</td>\n",
       "      <td>40.0</td>\n",
       "    </tr>\n",
       "  </tbody>\n",
       "</table>\n",
       "</div>"
      ],
      "text/plain": [
       "         DC1   DC2   DC3  Dummy\n",
       "PlantA  20.0  20.0  10.0    0.0\n",
       "PlantB   0.0   0.0  10.0   40.0"
      ]
     },
     "execution_count": 3,
     "metadata": {
     },
     "output_type": "execute_result"
    }
   ],
   "source": [
    "plant = ['PlantA', 'PlantB']\n",
    "supply = dict(zip(plant, [50, 50]))\n",
    "\n",
    "distribution = ['DC1', 'DC2', 'DC3', 'Dummy']\n",
    "demand = dict(zip(distribution, [20, 20, 20, 40]))\n",
    "\n",
    "littleM = 0\n",
    "cost_list = [[600, 700, 400, littleM],\n",
    "             #[bigM, bigM, bigM, bigM],\n",
    "              [700, 800, 500, littleM]\n",
    "            #,[bigM, bigM, bigM, bigM]\n",
    "            ]\n",
    "\n",
    "cost = {\n",
    "    plant[p]: {distribution[d]: cost_list[p][d]\n",
    "                   for d in range(len(distribution))}\n",
    "    for p in range(len(plant))\n",
    "}\n",
    "\n",
    "#throw an error if total supply and demand do not match\n",
    "assert (sum(supply.values()) == sum(demand.values()))\n",
    "\n",
    "from pyomo.environ import *\n",
    "\n",
    "model = ConcreteModel()\n",
    "\n",
    "model.assign= Var(plant, distribution, domain=NonNegativeReals)\n",
    "\n",
    "model.total_cost = Objective(expr=sum(cost[p][d] * model.assign[p, d]\n",
    "                                      for p in plant for d in distribution),\n",
    "                             sense=minimize)\n",
    "\n",
    "model.supply_ct = ConstraintList()\n",
    "for p in plant:\n",
    "    model.supply_ct.add(\n",
    "        sum(model.assign[p, d] for d in distribution) == supply[p])\n",
    "\n",
    "model.demand_ct = ConstraintList()\n",
    "for d in distribution:\n",
    "    model.demand_ct.add(\n",
    "        sum(model.assign[p, d\n",
    "                        ] for p in plant) == demand[d])\n",
    "\n",
    "# solve and display\n",
    "solver = SolverFactory('glpk')\n",
    "solver.solve(model)\n",
    "\n",
    "# display solution\n",
    "import babel.numbers as numbers  # needed to display as currency\n",
    "print(\"Minimum Total Cost per Week = \",\n",
    "      numbers.format_currency(model.total_cost(), 'USD', locale='en_US'))\n",
    "# put amounts in dataframe for nicer display\n",
    "import pandas as pd\n",
    "dvars = pd.DataFrame([[model.assign[p, d]() for d in distribution]\n",
    "                      for p in plant],\n",
    "                     index = plant,\n",
    "                     columns=distribution)\n",
    "print(\"Number of trucks per week to Distribution Centers:\")\n",
    "dvars\n",
    "\n"
   ]
  },
  {
   "cell_type": "markdown",
   "metadata": {
    "collapsed": false
   },
   "source": [
    "**(b)** *No product splitting allowed* . Each distribution center can receive forklift trucks from only one plant (to lower administrative and other hidden costs).   So one plant sends two shipments of 20 to each of two distribution centers, while the other plant sends one shipment of 20 to the remaining distribution center.\n",
    "\n",
    "Follow the \"Formulation of option 2\" on page 354 to formulate this as an assignment problem, then use CP-SAT with Element and All-Different constraints to solve this assignment problem to find the minimum cost.  The minimum cost with no-splitting allowed should be larger than the minimum cost when splitting is allowed.  Your code should be easily generalizable.\n",
    "\n",
    "<font color = \"blue\"> *** 8 points -  answer in cell below *** (don't delete this cell) </font>"
   ]
  },
  {
   "cell_type": "code",
   "execution_count": 7,
   "metadata": {
    "collapsed": false
   },
   "outputs": [
    {
     "name": "stdout",
     "output_type": "stream",
     "text": [
      "Lowest Possible Cost: $36000.0\n",
      "\n",
      "Assignments and associated costs (note: these are total dollars based on 20 units per lot, at $x per unit, per square on the grid):\n"
     ]
    },
    {
     "data": {
      "text/html": [
       "<div>\n",
       "<style scoped>\n",
       "    .dataframe tbody tr th:only-of-type {\n",
       "        vertical-align: middle;\n",
       "    }\n",
       "\n",
       "    .dataframe tbody tr th {\n",
       "        vertical-align: top;\n",
       "    }\n",
       "\n",
       "    .dataframe thead th {\n",
       "        text-align: right;\n",
       "    }\n",
       "</style>\n",
       "<table border=\"1\" class=\"dataframe\">\n",
       "  <thead>\n",
       "    <tr style=\"text-align: right;\">\n",
       "      <th></th>\n",
       "      <th>Loc1</th>\n",
       "      <th>Loc2</th>\n",
       "      <th>Loc3</th>\n",
       "      <th>Dummy</th>\n",
       "    </tr>\n",
       "  </thead>\n",
       "  <tbody>\n",
       "    <tr>\n",
       "      <th>Plant1a</th>\n",
       "      <td>0</td>\n",
       "      <td>14000</td>\n",
       "      <td>0</td>\n",
       "      <td>0</td>\n",
       "    </tr>\n",
       "    <tr>\n",
       "      <th>Plant1b</th>\n",
       "      <td>12000</td>\n",
       "      <td>0</td>\n",
       "      <td>0</td>\n",
       "      <td>0</td>\n",
       "    </tr>\n",
       "    <tr>\n",
       "      <th>Plant2a</th>\n",
       "      <td>0</td>\n",
       "      <td>0</td>\n",
       "      <td>10000</td>\n",
       "      <td>0</td>\n",
       "    </tr>\n",
       "    <tr>\n",
       "      <th>Plant2b</th>\n",
       "      <td>0</td>\n",
       "      <td>0</td>\n",
       "      <td>0</td>\n",
       "      <td>0</td>\n",
       "    </tr>\n",
       "  </tbody>\n",
       "</table>\n",
       "</div>"
      ],
      "text/plain": [
       "          Loc1   Loc2   Loc3  Dummy\n",
       "Plant1a      0  14000      0      0\n",
       "Plant1b  12000      0      0      0\n",
       "Plant2a      0      0  10000      0\n",
       "Plant2b      0      0      0      0"
      ]
     },
     "execution_count": 7,
     "metadata": {
     },
     "output_type": "execute_result"
    }
   ],
   "source": [
    "import pandas as pd\n",
    "from IPython.display import display, HTML\n",
    "t = 20 #lot size twenty\n",
    "locations = ['Loc1', 'Loc2', 'Loc3', 'Dummy']\n",
    "plants = ['Plant1a', 'Plant1b', 'Plant2a', 'Plant2b']\n",
    "cost_table = [ [600*t, 700*t, 400*t, 0],\n",
    "         [600*t, 700*t, 400*t, 0],\n",
    "         [700*t, 800*t, 500*t, 0],\n",
    "         [700*t, 800*t, 500*t, 0]\n",
    "       ]\n",
    "\n",
    "\n",
    "num_locations = len(cost_table[0])\n",
    "num_plants = len(cost_table)\n",
    "\n",
    "from ortools.sat.python import cp_model\n",
    "\n",
    "# Create the model.\n",
    "model = cp_model.CpModel()\n",
    "\n",
    "# Creates the variables.\n",
    "assign = [\n",
    "    model.NewIntVar(0, num_locations - 1, plants[i])\n",
    "    for i in range(num_plants)\n",
    "]\n",
    "\n",
    "\n",
    "#get the maximum cost from the cost_table for the top of our intvar range\n",
    "max_cost = max(list(map(max, cost_table)))\n",
    "cost = [model.NewIntVar(0, max_cost, f'cost{i}') for i in range(num_plants)]\n",
    "\n",
    "# Constraints\n",
    "model.AddAllDifferent(assign)\n",
    "\n",
    "for i in range(num_locations):\n",
    "    model.AddElement(assign[i], cost_table[i], cost[i]) #cost[i]= cost_table[i][assign[i]] \n",
    "\n",
    "model.Minimize(sum(cost))\n",
    "\n",
    "\n",
    "# Creates a solver and solves the model.\n",
    "solver = cp_model.CpSolver()\n",
    "status = solver.Solve(model)\n",
    "\n",
    "if status == cp_model.OPTIMAL:\n",
    "    print(f'Lowest Possible Cost: ${solver.ObjectiveValue()}')\n",
    "    print()\n",
    "    print('Assignments and associated costs (note: these are total dollars based on 20 units per lot, at $x per unit, per square on the grid):')\n",
    "    cost_assigns = pd.DataFrame(0, index=plants, columns=locations)\n",
    "    for i in range(num_plants):\n",
    "        cost_assigns.iloc[i, solver.Value(assign[i])] = solver.Value(cost[i])\n",
    "    display(cost_assigns)"
   ]
  },
  {
   "cell_type": "markdown",
   "metadata": {
    "collapsed": false
   },
   "source": [
    "# Different Assignment-like Problem"
   ]
  },
  {
   "cell_type": "markdown",
   "metadata": {
    "collapsed": false
   },
   "source": [
    "A college student has 7 days remaining before final examinations begin in her four courses, and she wants to allocate this study time as effectively as possible. She needs at least 1 day on each course, and she likes to concentrate on just one course each day, so she wants to allocate 1, 2, 3, or 4 days to each course. Having recently taken an OR course, she decides to use dynamic programming to make these allocations to maximize the total grade points to be obtained from the four courses. She estimates that the alternative allocations for each course would yield the number of grade points shown in the following table:\n",
    "\n",
    "<img src=\"./images/grades_table.png\" width=400>\n",
    "\n",
    "Use a CP-SAT constraint programming approach with the Element constraint and other appropriate constraints to maximize the total grade points. Your code should be easily generalizable.\n",
    "\n",
    "<font color = \"blue\"> *** 10 points -  answer in cell below *** (don't delete this cell) </font>"
   ]
  },
  {
   "cell_type": "code",
   "execution_count": 8,
   "metadata": {
    "collapsed": false,
    "scrolled": true
   },
   "outputs": [
    {
     "name": "stdout",
     "output_type": "stream",
     "text": [
      "Highest Possible GPA: 23.0\n",
      "\n",
      "Assignments Yielding Highest GPA:\n"
     ]
    },
    {
     "data": {
      "text/html": [
       "<div>\n",
       "<style scoped>\n",
       "    .dataframe tbody tr th:only-of-type {\n",
       "        vertical-align: middle;\n",
       "    }\n",
       "\n",
       "    .dataframe tbody tr th {\n",
       "        vertical-align: top;\n",
       "    }\n",
       "\n",
       "    .dataframe thead th {\n",
       "        text-align: right;\n",
       "    }\n",
       "</style>\n",
       "<table border=\"1\" class=\"dataframe\">\n",
       "  <thead>\n",
       "    <tr style=\"text-align: right;\">\n",
       "      <th></th>\n",
       "      <th>1 Days</th>\n",
       "      <th>2 Days</th>\n",
       "      <th>3 Days</th>\n",
       "      <th>4 Days</th>\n",
       "    </tr>\n",
       "  </thead>\n",
       "  <tbody>\n",
       "    <tr>\n",
       "      <th>Course1</th>\n",
       "      <td>0</td>\n",
       "      <td>Study</td>\n",
       "      <td>0</td>\n",
       "      <td>0</td>\n",
       "    </tr>\n",
       "    <tr>\n",
       "      <th>Course2</th>\n",
       "      <td>Study</td>\n",
       "      <td>0</td>\n",
       "      <td>0</td>\n",
       "      <td>0</td>\n",
       "    </tr>\n",
       "    <tr>\n",
       "      <th>Course3</th>\n",
       "      <td>0</td>\n",
       "      <td>0</td>\n",
       "      <td>Study</td>\n",
       "      <td>0</td>\n",
       "    </tr>\n",
       "    <tr>\n",
       "      <th>Course4</th>\n",
       "      <td>Study</td>\n",
       "      <td>0</td>\n",
       "      <td>0</td>\n",
       "      <td>0</td>\n",
       "    </tr>\n",
       "  </tbody>\n",
       "</table>\n",
       "</div>"
      ],
      "text/plain": [
       "        1 Days 2 Days 3 Days  4 Days\n",
       "Course1      0  Study      0       0\n",
       "Course2  Study      0      0       0\n",
       "Course3      0      0  Study       0\n",
       "Course4  Study      0      0       0"
      ]
     },
     "execution_count": 8,
     "metadata": {
     },
     "output_type": "execute_result"
    }
   ],
   "source": [
    "import pandas as pd\n",
    "from IPython.display import display, HTML\n",
    "from ortools.sat.python import cp_model\n",
    "\n",
    "courses = ['Course1', 'Course2', 'Course3', 'Course4'] #To test more courses: , 'CourseXX'\n",
    "dayvalues = ['1 Days', '2 Days', '3 Days', '4 Days']\n",
    "gpa_table_cols = [ [3,5,6,7], #columns (each set represents a course, from 1 day to 4 days of studying)\n",
    "               [5,5,6,9],\n",
    "               [2,4,7,8],\n",
    "               [6,7,9,9]\n",
    "               #,[1,1,1,1] To test more courses\n",
    "             ]\n",
    "\n",
    "gpa_table = gpa_table_cols #toggle gpa_table_rows/columns\n",
    "\n",
    "num_courses = len(gpa_table)\n",
    "num_dayvalues = len(gpa_table[0])\n",
    "\n",
    "\n",
    "# Create the model.\n",
    "model = cp_model.CpModel()\n",
    "\n",
    "###Creates the variables.\n",
    "assign = [\n",
    "    model.NewIntVar(0, num_courses - 1, courses[i])\n",
    "    for i in range(num_courses)\n",
    "]\n",
    "\n",
    "max_gpa = max(list(map(max, gpa_table)))\n",
    "GPA = [model.NewIntVar(0, max_gpa, f'GPA{i}') for i in range(num_courses)]\n",
    "\n",
    "##Constraints\n",
    "#model.AddAllDifferent(assign) #assign[0], assign[1], assign[2], assign[3]) #I believe my problem is by its structure picking 'all different'. No need for this?\n",
    "for i in range(num_courses):\n",
    "    model.AddElement(assign[i], gpa_table[i], GPA[i]) #cost[i]= cost_table[i][assign[i]]\n",
    "#limit the number of days to 7 total (4 + 3 vars = 7)\n",
    "model.Add(assign[0] + 1 + assign[1] + 1 + assign[2] + 1 + assign[3] + 1 == 7) #To test more courses: + assign[4]+1\n",
    "\n",
    "model.Maximize(sum(GPA))\n",
    "\n",
    "# Creates a solver and solves the model.\n",
    "solver = cp_model.CpSolver()\n",
    "status = solver.Solve(model)\n",
    "\n",
    "\n",
    "# Display Results:\n",
    "if status == cp_model.OPTIMAL:\n",
    "    print(f'Highest Possible GPA: {solver.ObjectiveValue()}')\n",
    "    print()\n",
    "    print('Assignments Yielding Highest GPA:')\n",
    "    gpa_assigns = pd.DataFrame(0, index=courses, columns= dayvalues)\n",
    "    for i in range(num_courses):\n",
    "        gpa_assigns.iloc[i, solver.Value(assign[i])] = 'Study' #solver.Value(GPA[i]) #toggle this to get the actual GPA points for a course/day\n",
    "    display(gpa_assigns)\n"
   ]
  },
  {
   "cell_type": "code",
   "execution_count": 46,
   "metadata": {
    "collapsed": false
   },
   "outputs": [
    {
     "name": "stdout",
     "output_type": "stream",
     "text": [
      "Course1 = 1 Course2 = 1 Course3 = 1 Course4 = 4 \n",
      "Course1 = 1 Course2 = 2 Course3 = 1 Course4 = 3 \n",
      "Course1 = 1 Course2 = 4 Course3 = 1 Course4 = 1 \n",
      "Course1 = 1 Course2 = 3 Course3 = 1 Course4 = 2 \n",
      "Course1 = 1 Course2 = 1 Course3 = 2 Course4 = 3 \n",
      "Course1 = 1 Course2 = 2 Course3 = 2 Course4 = 2 \n",
      "Course1 = 1 Course2 = 3 Course3 = 2 Course4 = 1 \n",
      "Course1 = 1 Course2 = 1 Course3 = 4 Course4 = 1 \n",
      "Course1 = 1 Course2 = 2 Course3 = 3 Course4 = 1 \n",
      "Course1 = 1 Course2 = 1 Course3 = 3 Course4 = 2 \n",
      "Course1 = 4 Course2 = 1 Course3 = 1 Course4 = 1 \n",
      "Course1 = 3 Course2 = 2 Course3 = 1 Course4 = 1 \n",
      "Course1 = 3 Course2 = 1 Course3 = 2 Course4 = 1 \n",
      "Course1 = 3 Course2 = 1 Course3 = 1 Course4 = 2 \n",
      "Course1 = 2 Course2 = 2 Course3 = 1 Course4 = 2 \n",
      "Course1 = 2 Course2 = 1 Course3 = 1 Course4 = 3 \n",
      "Course1 = 2 Course2 = 2 Course3 = 2 Course4 = 1 \n",
      "Course1 = 2 Course2 = 1 Course3 = 2 Course4 = 2 \n",
      "Course1 = 2 Course2 = 1 Course3 = 3 Course4 = 1 \n",
      "Course1 = 2 Course2 = 3 Course3 = 1 Course4 = 1 \n",
      "Status = OPTIMAL\n",
      "Number of solutions found: 20\n"
     ]
    }
   ],
   "source": [
    "###Here is a printout of all POSSIBLE solutions. The optimal solution is found within them,\n",
    "###and displayed above for the original problem Q/A.\n",
    "# solution printer\n",
    "from ortools.sat.python import cp_model\n",
    "\n",
    "class VarArraySolutionPrinter(cp_model.CpSolverSolutionCallback):\n",
    "    \"\"\"Print intermediate solutions.\"\"\"\n",
    "\n",
    "    def __init__(self, variables):\n",
    "        cp_model.CpSolverSolutionCallback.__init__(self)\n",
    "        self.__variables = variables\n",
    "        self.__solution_count = 0\n",
    "\n",
    "    def on_solution_callback(self):\n",
    "        self.__solution_count += 1\n",
    "        for v in self.__variables:\n",
    "            #Here I am inserting a \"+1\" to account for it just being an index...that will give an accurate\n",
    "            #Value of the total days assigned to each course\n",
    "            print(f'{v} = {self.Value(v)+1}', end = ' ')\n",
    "        print()\n",
    "\n",
    "    def solution_count(self):\n",
    "        return self.__solution_count\n",
    "    \n",
    "# Create a solver and solve.\n",
    "solution_printer = VarArraySolutionPrinter([assign[0] , assign[1], assign[2], assign[3]]) #To test mre courses: , assign[4]\n",
    "status = solver.SearchForAllSolutions(model, solution_printer)\n",
    "\n",
    "#Print Results\n",
    "print(f'Status = {solver.StatusName(status)}')\n",
    "print(f'Number of solutions found: {solution_printer.solution_count()}')"
   ]
  },
  {
   "cell_type": "markdown",
   "metadata": {
    "collapsed": false
   },
   "source": [
    "# Scheduling"
   ]
  },
  {
   "cell_type": "markdown",
   "metadata": {
    "collapsed": false
   },
   "source": [
    "Use the generalizable CP-SAT approach to scheduling shown in the lesson to find a schedule of minimum length for the Reliable Construction Company project with activities A-N shown in the table below:\n",
    "\n",
    "<img src=\"./images/reliable_table.png\" width=600>\n",
    "\n",
    "This problem is discussed in a supplemental textbook chapter which we've included in the folder with this notebook if you want to know more about it.\n",
    "\n",
    "Display both the minimized length and the optimal schedule in both text and with a Gantt chart.\n",
    "\n",
    "<font color = \"blue\"> *** 8 points -  answer in cell below *** (don't delete this cell) </font>"
   ]
  },
  {
   "cell_type": "code",
   "execution_count": 36,
   "metadata": {
    "collapsed": false
   },
   "outputs": [
    {
     "name": "stdout",
     "output_type": "stream",
     "text": [
      "Optimal Schedule Length: 44.0 weeks\n",
      "Maximum Schedule if all weeks added together: 79 weeks\n",
      "\n",
      "A-Excavate start at week 0 and end at week 2\n",
      "B-Foundation start at week 2 and end at week 6\n",
      "C-Rough Wall start at week 6 and end at week 16\n",
      "D-Roof start at week 16 and end at week 22\n",
      "E-Exterior Plumbing start at week 16 and end at week 20\n",
      "F-Interior Plumbing start at week 20 and end at week 25\n",
      "G-Exterior Siding start at week 22 and end at week 29\n",
      "H-Exterior Painting start at week 29 and end at week 38\n",
      "I-Electrical Work start at week 16 and end at week 23\n",
      "J-Wallboard start at week 25 and end at week 33\n",
      "K-Flooring start at week 33 and end at week 37\n",
      "L-Interior Painting start at week 33 and end at week 38\n",
      "M-Exterior Fixtures start at week 38 and end at week 40\n",
      "N-Interior Fixtures start at week 38 and end at week 44\n"
     ]
    }
   ],
   "source": [
    "# generalizable schedule code\n",
    "import numpy as np\n",
    "\n",
    "task_duration_dict = {\n",
    "    'A-Excavate': 2,\n",
    "    'B-Foundation': 4,\n",
    "    'C-Rough Wall': 10,\n",
    "    'D-Roof': 6,\n",
    "    'E-Exterior Plumbing': 4,\n",
    "    'F-Interior Plumbing': 5,\n",
    "    'G-Exterior Siding': 7,\n",
    "    'H-Exterior Painting': 9,\n",
    "    'I-Electrical Work': 7,\n",
    "    'J-Wallboard': 8,\n",
    "    'K-Flooring': 4,\n",
    "    'L-Interior Painting': 5,\n",
    "    'M-Exterior Fixtures': 2,\n",
    "    'N-Interior Fixtures': 6,\n",
    "}\n",
    "task_names = list(task_duration_dict.keys())\n",
    "num_tasks = len(task_names)\n",
    "durations = list(task_duration_dict.values())\n",
    "\n",
    "# for each task we have a list of tasks that must go after\n",
    "# task:['these','tasks','after']\n",
    "precedence_dict = {\n",
    "    'A-Excavate': [],\n",
    "    'B-Foundation': ['A-Excavate'],\n",
    "    'C-Rough Wall': ['B-Foundation'],\n",
    "    'D-Roof': ['C-Rough Wall'],\n",
    "    'E-Exterior Plumbing': ['C-Rough Wall'],\n",
    "    'F-Interior Plumbing': ['E-Exterior Plumbing'],\n",
    "    'G-Exterior Siding': ['D-Roof'],\n",
    "    'H-Exterior Painting': ['E-Exterior Plumbing','G-Exterior Siding'],\n",
    "    'I-Electrical Work': ['C-Rough Wall'],\n",
    "    'J-Wallboard': ['F-Interior Plumbing','I-Electrical Work'],\n",
    "    'K-Flooring': ['J-Wallboard'],\n",
    "    'L-Interior Painting': ['J-Wallboard'],\n",
    "    'M-Exterior Fixtures': ['H-Exterior Painting'],\n",
    "    'N-Interior Fixtures': ['K-Flooring','L-Interior Painting']\n",
    "}\n",
    "\n",
    "task_name_to_number_dict = dict(zip(task_names, np.arange(0, num_tasks)))\n",
    "\n",
    "horizon = sum(task_duration_dict.values())\n",
    "\n",
    "from ortools.sat.python import cp_model\n",
    "model = cp_model.CpModel()\n",
    "\n",
    "start_vars = [\n",
    "    model.NewIntVar(0, horizon, name=f'start_{t}') for t in task_names\n",
    "]\n",
    "end_vars = [model.NewIntVar(0, horizon, name=f'end_{t}') for t in task_names]\n",
    "\n",
    "# the `NewIntervalVar` are both variables and constraints, the internally enforce that start + duration = end\n",
    "intervals = [\n",
    "    model.NewIntervalVar(start_vars[i],\n",
    "                         durations[i],\n",
    "                         end_vars[i],\n",
    "                         name=f'interval_{task_names[i]}')\n",
    "    for i in range(num_tasks)\n",
    "]\n",
    "\n",
    "# precedence constraints\n",
    "for before in list(precedence_dict.keys()):\n",
    "    for after in precedence_dict[before]:\n",
    "        before_index = task_name_to_number_dict[before]\n",
    "        after_index = task_name_to_number_dict[after]\n",
    "        model.Add(end_vars[after_index] <= start_vars[before_index])\n",
    "\n",
    "obj_var = model.NewIntVar(0, horizon, 'largest_end_time')\n",
    "model.AddMaxEquality(obj_var, end_vars)\n",
    "model.Minimize(obj_var)\n",
    "\n",
    "solver = cp_model.CpSolver()\n",
    "status = solver.Solve(model)\n",
    "\n",
    "print(f'Optimal Schedule Length: {solver.ObjectiveValue()} weeks')\n",
    "print(f'Maximum Schedule if all weeks added together: {sum(durations)} weeks')\n",
    "print()\n",
    "for i in range(num_tasks):\n",
    "    print(\n",
    "        f'{task_names[i]} start at week {solver.Value(start_vars[i])} and end at week {solver.Value(end_vars[i])}'\n",
    "    )"
   ]
  },
  {
   "cell_type": "code",
   "execution_count": 31,
   "metadata": {
    "collapsed": false,
    "scrolled": true
   },
   "outputs": [
    {
     "data": {
      "text/html": [
       "\n",
       "    <div class=\"bk-root\">\n",
       "        <a href=\"https://bokeh.org\" target=\"_blank\" class=\"bk-logo bk-logo-small bk-logo-notebook\"></a>\n",
       "        <span id=\"1162\">Loading BokehJS ...</span>\n",
       "    </div>"
      ]
     },
     "execution_count": 31,
     "metadata": {
     },
     "output_type": "execute_result"
    },
    {
     "data": {
      "application/javascript": "\n(function(root) {\n  function now() {\n    return new Date();\n  }\n\n  var force = true;\n\n  if (typeof root._bokeh_onload_callbacks === \"undefined\" || force === true) {\n    root._bokeh_onload_callbacks = [];\n    root._bokeh_is_loading = undefined;\n  }\n\n  var JS_MIME_TYPE = 'application/javascript';\n  var HTML_MIME_TYPE = 'text/html';\n  var EXEC_MIME_TYPE = 'application/vnd.bokehjs_exec.v0+json';\n  var CLASS_NAME = 'output_bokeh rendered_html';\n\n  /**\n   * Render data to the DOM node\n   */\n  function render(props, node) {\n    var script = document.createElement(\"script\");\n    node.appendChild(script);\n  }\n\n  /**\n   * Handle when an output is cleared or removed\n   */\n  function handleClearOutput(event, handle) {\n    var cell = handle.cell;\n\n    var id = cell.output_area._bokeh_element_id;\n    var server_id = cell.output_area._bokeh_server_id;\n    // Clean up Bokeh references\n    if (id != null && id in Bokeh.index) {\n      Bokeh.index[id].model.document.clear();\n      delete Bokeh.index[id];\n    }\n\n    if (server_id !== undefined) {\n      // Clean up Bokeh references\n      var cmd = \"from bokeh.io.state import curstate; print(curstate().uuid_to_server['\" + server_id + \"'].get_sessions()[0].document.roots[0]._id)\";\n      cell.notebook.kernel.execute(cmd, {\n        iopub: {\n          output: function(msg) {\n            var id = msg.content.text.trim();\n            if (id in Bokeh.index) {\n              Bokeh.index[id].model.document.clear();\n              delete Bokeh.index[id];\n            }\n          }\n        }\n      });\n      // Destroy server and session\n      var cmd = \"import bokeh.io.notebook as ion; ion.destroy_server('\" + server_id + \"')\";\n      cell.notebook.kernel.execute(cmd);\n    }\n  }\n\n  /**\n   * Handle when a new output is added\n   */\n  function handleAddOutput(event, handle) {\n    var output_area = handle.output_area;\n    var output = handle.output;\n\n    // limit handleAddOutput to display_data with EXEC_MIME_TYPE content only\n    if ((output.output_type != \"display_data\") || (!output.data.hasOwnProperty(EXEC_MIME_TYPE))) {\n      return\n    }\n\n    var toinsert = output_area.element.find(\".\" + CLASS_NAME.split(' ')[0]);\n\n    if (output.metadata[EXEC_MIME_TYPE][\"id\"] !== undefined) {\n      toinsert[toinsert.length - 1].firstChild.textContent = output.data[JS_MIME_TYPE];\n      // store reference to embed id on output_area\n      output_area._bokeh_element_id = output.metadata[EXEC_MIME_TYPE][\"id\"];\n    }\n    if (output.metadata[EXEC_MIME_TYPE][\"server_id\"] !== undefined) {\n      var bk_div = document.createElement(\"div\");\n      bk_div.innerHTML = output.data[HTML_MIME_TYPE];\n      var script_attrs = bk_div.children[0].attributes;\n      for (var i = 0; i < script_attrs.length; i++) {\n        toinsert[toinsert.length - 1].firstChild.setAttribute(script_attrs[i].name, script_attrs[i].value);\n      }\n      // store reference to server id on output_area\n      output_area._bokeh_server_id = output.metadata[EXEC_MIME_TYPE][\"server_id\"];\n    }\n  }\n\n  function register_renderer(events, OutputArea) {\n\n    function append_mime(data, metadata, element) {\n      // create a DOM node to render to\n      var toinsert = this.create_output_subarea(\n        metadata,\n        CLASS_NAME,\n        EXEC_MIME_TYPE\n      );\n      this.keyboard_manager.register_events(toinsert);\n      // Render to node\n      var props = {data: data, metadata: metadata[EXEC_MIME_TYPE]};\n      render(props, toinsert[toinsert.length - 1]);\n      element.append(toinsert);\n      return toinsert\n    }\n\n    /* Handle when an output is cleared or removed */\n    events.on('clear_output.CodeCell', handleClearOutput);\n    events.on('delete.Cell', handleClearOutput);\n\n    /* Handle when a new output is added */\n    events.on('output_added.OutputArea', handleAddOutput);\n\n    /**\n     * Register the mime type and append_mime function with output_area\n     */\n    OutputArea.prototype.register_mime_type(EXEC_MIME_TYPE, append_mime, {\n      /* Is output safe? */\n      safe: true,\n      /* Index of renderer in `output_area.display_order` */\n      index: 0\n    });\n  }\n\n  // register the mime type if in Jupyter Notebook environment and previously unregistered\n  if (root.Jupyter !== undefined) {\n    var events = require('base/js/events');\n    var OutputArea = require('notebook/js/outputarea').OutputArea;\n\n    if (OutputArea.prototype.mime_types().indexOf(EXEC_MIME_TYPE) == -1) {\n      register_renderer(events, OutputArea);\n    }\n  }\n\n  \n  if (typeof (root._bokeh_timeout) === \"undefined\" || force === true) {\n    root._bokeh_timeout = Date.now() + 5000;\n    root._bokeh_failed_load = false;\n  }\n\n  var NB_LOAD_WARNING = {'data': {'text/html':\n     \"<div style='background-color: #fdd'>\\n\"+\n     \"<p>\\n\"+\n     \"BokehJS does not appear to have successfully loaded. If loading BokehJS from CDN, this \\n\"+\n     \"may be due to a slow or bad network connection. Possible fixes:\\n\"+\n     \"</p>\\n\"+\n     \"<ul>\\n\"+\n     \"<li>re-rerun `output_notebook()` to attempt to load from CDN again, or</li>\\n\"+\n     \"<li>use INLINE resources instead, as so:</li>\\n\"+\n     \"</ul>\\n\"+\n     \"<code>\\n\"+\n     \"from bokeh.resources import INLINE\\n\"+\n     \"output_notebook(resources=INLINE)\\n\"+\n     \"</code>\\n\"+\n     \"</div>\"}};\n\n  function display_loaded() {\n    var el = document.getElementById(\"1162\");\n    if (el != null) {\n      el.textContent = \"BokehJS is loading...\";\n    }\n    if (root.Bokeh !== undefined) {\n      if (el != null) {\n        el.textContent = \"BokehJS \" + root.Bokeh.version + \" successfully loaded.\";\n      }\n    } else if (Date.now() < root._bokeh_timeout) {\n      setTimeout(display_loaded, 100)\n    }\n  }\n\n\n  function run_callbacks() {\n    try {\n      root._bokeh_onload_callbacks.forEach(function(callback) {\n        if (callback != null)\n          callback();\n      });\n    } finally {\n      delete root._bokeh_onload_callbacks\n    }\n    console.debug(\"Bokeh: all callbacks have finished\");\n  }\n\n  function load_libs(css_urls, js_urls, callback) {\n    if (css_urls == null) css_urls = [];\n    if (js_urls == null) js_urls = [];\n\n    root._bokeh_onload_callbacks.push(callback);\n    if (root._bokeh_is_loading > 0) {\n      console.debug(\"Bokeh: BokehJS is being loaded, scheduling callback at\", now());\n      return null;\n    }\n    if (js_urls == null || js_urls.length === 0) {\n      run_callbacks();\n      return null;\n    }\n    console.debug(\"Bokeh: BokehJS not loaded, scheduling load and callback at\", now());\n    root._bokeh_is_loading = css_urls.length + js_urls.length;\n\n    function on_load() {\n      root._bokeh_is_loading--;\n      if (root._bokeh_is_loading === 0) {\n        console.debug(\"Bokeh: all BokehJS libraries/stylesheets loaded\");\n        run_callbacks()\n      }\n    }\n\n    function on_error() {\n      console.error(\"failed to load \" + url);\n    }\n\n    for (var i = 0; i < css_urls.length; i++) {\n      var url = css_urls[i];\n      const element = document.createElement(\"link\");\n      element.onload = on_load;\n      element.onerror = on_error;\n      element.rel = \"stylesheet\";\n      element.type = \"text/css\";\n      element.href = url;\n      console.debug(\"Bokeh: injecting link tag for BokehJS stylesheet: \", url);\n      document.body.appendChild(element);\n    }\n\n    for (var i = 0; i < js_urls.length; i++) {\n      var url = js_urls[i];\n      var element = document.createElement('script');\n      element.onload = on_load;\n      element.onerror = on_error;\n      element.async = false;\n      element.src = url;\n      console.debug(\"Bokeh: injecting script tag for BokehJS library: \", url);\n      document.head.appendChild(element);\n    }\n  };var element = document.getElementById(\"1162\");\n  if (element == null) {\n    console.error(\"Bokeh: ERROR: autoload.js configured with elementid '1162' but no matching script tag was found. \")\n    return false;\n  }\n\n  function inject_raw_css(css) {\n    const element = document.createElement(\"style\");\n    element.appendChild(document.createTextNode(css));\n    document.body.appendChild(element);\n  }\n\n  \n  var js_urls = [\"https://cdn.pydata.org/bokeh/release/bokeh-1.4.0.min.js\", \"https://cdn.pydata.org/bokeh/release/bokeh-widgets-1.4.0.min.js\", \"https://cdn.pydata.org/bokeh/release/bokeh-tables-1.4.0.min.js\", \"https://cdn.pydata.org/bokeh/release/bokeh-gl-1.4.0.min.js\"];\n  var css_urls = [];\n  \n\n  var inline_js = [\n    function(Bokeh) {\n      Bokeh.set_log_level(\"info\");\n    },\n    function(Bokeh) {\n    \n    \n    }\n  ];\n\n  function run_inline_js() {\n    \n    if (root.Bokeh !== undefined || force === true) {\n      \n    for (var i = 0; i < inline_js.length; i++) {\n      inline_js[i].call(root, root.Bokeh);\n    }\n    if (force === true) {\n        display_loaded();\n      }} else if (Date.now() < root._bokeh_timeout) {\n      setTimeout(run_inline_js, 100);\n    } else if (!root._bokeh_failed_load) {\n      console.log(\"Bokeh: BokehJS failed to load within specified timeout.\");\n      root._bokeh_failed_load = true;\n    } else if (force !== true) {\n      var cell = $(document.getElementById(\"1162\")).parents('.cell').data().cell;\n      cell.output_area.append_execute_result(NB_LOAD_WARNING)\n    }\n\n  }\n\n  if (root._bokeh_is_loading === 0) {\n    console.debug(\"Bokeh: BokehJS loaded, going straight to plotting\");\n    run_inline_js();\n  } else {\n    load_libs(css_urls, js_urls, function() {\n      console.debug(\"Bokeh: BokehJS plotting callback run at\", now());\n      run_inline_js();\n    });\n  }\n}(window));",
      "application/vnd.bokehjs_load.v0+json": "\n(function(root) {\n  function now() {\n    return new Date();\n  }\n\n  var force = true;\n\n  if (typeof root._bokeh_onload_callbacks === \"undefined\" || force === true) {\n    root._bokeh_onload_callbacks = [];\n    root._bokeh_is_loading = undefined;\n  }\n\n  \n\n  \n  if (typeof (root._bokeh_timeout) === \"undefined\" || force === true) {\n    root._bokeh_timeout = Date.now() + 5000;\n    root._bokeh_failed_load = false;\n  }\n\n  var NB_LOAD_WARNING = {'data': {'text/html':\n     \"<div style='background-color: #fdd'>\\n\"+\n     \"<p>\\n\"+\n     \"BokehJS does not appear to have successfully loaded. If loading BokehJS from CDN, this \\n\"+\n     \"may be due to a slow or bad network connection. Possible fixes:\\n\"+\n     \"</p>\\n\"+\n     \"<ul>\\n\"+\n     \"<li>re-rerun `output_notebook()` to attempt to load from CDN again, or</li>\\n\"+\n     \"<li>use INLINE resources instead, as so:</li>\\n\"+\n     \"</ul>\\n\"+\n     \"<code>\\n\"+\n     \"from bokeh.resources import INLINE\\n\"+\n     \"output_notebook(resources=INLINE)\\n\"+\n     \"</code>\\n\"+\n     \"</div>\"}};\n\n  function display_loaded() {\n    var el = document.getElementById(\"1162\");\n    if (el != null) {\n      el.textContent = \"BokehJS is loading...\";\n    }\n    if (root.Bokeh !== undefined) {\n      if (el != null) {\n        el.textContent = \"BokehJS \" + root.Bokeh.version + \" successfully loaded.\";\n      }\n    } else if (Date.now() < root._bokeh_timeout) {\n      setTimeout(display_loaded, 100)\n    }\n  }\n\n\n  function run_callbacks() {\n    try {\n      root._bokeh_onload_callbacks.forEach(function(callback) {\n        if (callback != null)\n          callback();\n      });\n    } finally {\n      delete root._bokeh_onload_callbacks\n    }\n    console.debug(\"Bokeh: all callbacks have finished\");\n  }\n\n  function load_libs(css_urls, js_urls, callback) {\n    if (css_urls == null) css_urls = [];\n    if (js_urls == null) js_urls = [];\n\n    root._bokeh_onload_callbacks.push(callback);\n    if (root._bokeh_is_loading > 0) {\n      console.debug(\"Bokeh: BokehJS is being loaded, scheduling callback at\", now());\n      return null;\n    }\n    if (js_urls == null || js_urls.length === 0) {\n      run_callbacks();\n      return null;\n    }\n    console.debug(\"Bokeh: BokehJS not loaded, scheduling load and callback at\", now());\n    root._bokeh_is_loading = css_urls.length + js_urls.length;\n\n    function on_load() {\n      root._bokeh_is_loading--;\n      if (root._bokeh_is_loading === 0) {\n        console.debug(\"Bokeh: all BokehJS libraries/stylesheets loaded\");\n        run_callbacks()\n      }\n    }\n\n    function on_error() {\n      console.error(\"failed to load \" + url);\n    }\n\n    for (var i = 0; i < css_urls.length; i++) {\n      var url = css_urls[i];\n      const element = document.createElement(\"link\");\n      element.onload = on_load;\n      element.onerror = on_error;\n      element.rel = \"stylesheet\";\n      element.type = \"text/css\";\n      element.href = url;\n      console.debug(\"Bokeh: injecting link tag for BokehJS stylesheet: \", url);\n      document.body.appendChild(element);\n    }\n\n    for (var i = 0; i < js_urls.length; i++) {\n      var url = js_urls[i];\n      var element = document.createElement('script');\n      element.onload = on_load;\n      element.onerror = on_error;\n      element.async = false;\n      element.src = url;\n      console.debug(\"Bokeh: injecting script tag for BokehJS library: \", url);\n      document.head.appendChild(element);\n    }\n  };var element = document.getElementById(\"1162\");\n  if (element == null) {\n    console.error(\"Bokeh: ERROR: autoload.js configured with elementid '1162' but no matching script tag was found. \")\n    return false;\n  }\n\n  function inject_raw_css(css) {\n    const element = document.createElement(\"style\");\n    element.appendChild(document.createTextNode(css));\n    document.body.appendChild(element);\n  }\n\n  \n  var js_urls = [\"https://cdn.pydata.org/bokeh/release/bokeh-1.4.0.min.js\", \"https://cdn.pydata.org/bokeh/release/bokeh-widgets-1.4.0.min.js\", \"https://cdn.pydata.org/bokeh/release/bokeh-tables-1.4.0.min.js\", \"https://cdn.pydata.org/bokeh/release/bokeh-gl-1.4.0.min.js\"];\n  var css_urls = [];\n  \n\n  var inline_js = [\n    function(Bokeh) {\n      Bokeh.set_log_level(\"info\");\n    },\n    function(Bokeh) {\n    \n    \n    }\n  ];\n\n  function run_inline_js() {\n    \n    if (root.Bokeh !== undefined || force === true) {\n      \n    for (var i = 0; i < inline_js.length; i++) {\n      inline_js[i].call(root, root.Bokeh);\n    }\n    if (force === true) {\n        display_loaded();\n      }} else if (Date.now() < root._bokeh_timeout) {\n      setTimeout(run_inline_js, 100);\n    } else if (!root._bokeh_failed_load) {\n      console.log(\"Bokeh: BokehJS failed to load within specified timeout.\");\n      root._bokeh_failed_load = true;\n    } else if (force !== true) {\n      var cell = $(document.getElementById(\"1162\")).parents('.cell').data().cell;\n      cell.output_area.append_execute_result(NB_LOAD_WARNING)\n    }\n\n  }\n\n  if (root._bokeh_is_loading === 0) {\n    console.debug(\"Bokeh: BokehJS loaded, going straight to plotting\");\n    run_inline_js();\n  } else {\n    load_libs(css_urls, js_urls, function() {\n      console.debug(\"Bokeh: BokehJS plotting callback run at\", now());\n      run_inline_js();\n    });\n  }\n}(window));"
     },
     "execution_count": 31,
     "metadata": {
     },
     "output_type": "execute_result"
    },
    {
     "data": {
      "text/html": [
       "\n",
       "\n",
       "\n",
       "\n",
       "\n",
       "\n",
       "  <div class=\"bk-root\" id=\"fa2a487e-158e-4796-9283-4741b8141b1c\" data-root-id=\"1164\"></div>\n"
      ]
     },
     "execution_count": 31,
     "metadata": {
     },
     "output_type": "execute_result"
    },
    {
     "data": {
      "application/javascript": "(function(root) {\n  function embed_document(root) {\n    \n  var docs_json = {\"6ac6049d-60cd-421f-a592-50218008958c\":{\"roots\":{\"references\":[{\"attributes\":{\"below\":[{\"id\":\"1175\",\"type\":\"LinearAxis\"}],\"center\":[{\"id\":\"1179\",\"type\":\"Grid\"},{\"id\":\"1183\",\"type\":\"Grid\"}],\"left\":[{\"id\":\"1180\",\"type\":\"CategoricalAxis\"}],\"plot_height\":350,\"renderers\":[{\"id\":\"1188\",\"type\":\"GlyphRenderer\"}],\"title\":{\"id\":\"1165\",\"type\":\"Title\"},\"toolbar\":{\"id\":\"1184\",\"type\":\"Toolbar\"},\"toolbar_location\":null,\"x_range\":{\"id\":\"1167\",\"type\":\"Range1d\"},\"x_scale\":{\"id\":\"1171\",\"type\":\"LinearScale\"},\"y_range\":{\"id\":\"1169\",\"type\":\"FactorRange\"},\"y_scale\":{\"id\":\"1173\",\"type\":\"CategoricalScale\"}},\"id\":\"1164\",\"subtype\":\"Figure\",\"type\":\"Plot\"},{\"attributes\":{\"callback\":null,\"factors\":[\"A-Excavate\",\"B-Foundation\",\"C-Rough Wall\",\"D-Roof\",\"E-Exterior Plumbing\",\"F-Interior Plumbing\",\"G-Exterior Siding\",\"H-Exterior Painting\",\"I-Electrical Work\",\"J-Wallboard\",\"K-Flooring\",\"L-Interior Painting\",\"M-Exterior Fixtures\",\"N-Interior Fixtures\"]},\"id\":\"1169\",\"type\":\"FactorRange\"},{\"attributes\":{\"ticker\":{\"id\":\"1176\",\"type\":\"BasicTicker\"}},\"id\":\"1179\",\"type\":\"Grid\"},{\"attributes\":{\"text\":\"Task Time Spans\"},\"id\":\"1165\",\"type\":\"Title\"},{\"attributes\":{\"callback\":null,\"end\":44.0},\"id\":\"1167\",\"type\":\"Range1d\"},{\"attributes\":{\"callback\":null,\"data\":{\"ends\":[2,6,16,22,20,25,29,38,23,33,37,38,40,44],\"starts\":[0,2,6,16,16,20,22,29,16,25,33,33,38,38],\"tasks\":[\"A-Excavate\",\"B-Foundation\",\"C-Rough Wall\",\"D-Roof\",\"E-Exterior Plumbing\",\"F-Interior Plumbing\",\"G-Exterior Siding\",\"H-Exterior Painting\",\"I-Electrical Work\",\"J-Wallboard\",\"K-Flooring\",\"L-Interior Painting\",\"M-Exterior Fixtures\",\"N-Interior Fixtures\"]},\"selected\":{\"id\":\"1209\",\"type\":\"Selection\"},\"selection_policy\":{\"id\":\"1210\",\"type\":\"UnionRenderers\"}},\"id\":\"1163\",\"type\":\"ColumnDataSource\"},{\"attributes\":{\"fill_color\":{\"value\":\"#1f77b4\"},\"height\":{\"value\":0.9},\"left\":{\"field\":\"starts\"},\"line_color\":{\"value\":\"#1f77b4\"},\"right\":{\"field\":\"ends\"},\"y\":{\"field\":\"tasks\"}},\"id\":\"1186\",\"type\":\"HBar\"},{\"attributes\":{},\"id\":\"1171\",\"type\":\"LinearScale\"},{\"attributes\":{\"fill_alpha\":{\"value\":0.1},\"fill_color\":{\"value\":\"#1f77b4\"},\"height\":{\"value\":0.9},\"left\":{\"field\":\"starts\"},\"line_alpha\":{\"value\":0.1},\"line_color\":{\"value\":\"#1f77b4\"},\"right\":{\"field\":\"ends\"},\"y\":{\"field\":\"tasks\"}},\"id\":\"1187\",\"type\":\"HBar\"},{\"attributes\":{\"dimension\":1,\"grid_line_color\":null,\"ticker\":{\"id\":\"1181\",\"type\":\"CategoricalTicker\"}},\"id\":\"1183\",\"type\":\"Grid\"},{\"attributes\":{},\"id\":\"1176\",\"type\":\"BasicTicker\"},{\"attributes\":{\"active_drag\":\"auto\",\"active_inspect\":\"auto\",\"active_multi\":null,\"active_scroll\":\"auto\",\"active_tap\":\"auto\"},\"id\":\"1184\",\"type\":\"Toolbar\"},{\"attributes\":{},\"id\":\"1207\",\"type\":\"BasicTickFormatter\"},{\"attributes\":{\"source\":{\"id\":\"1163\",\"type\":\"ColumnDataSource\"}},\"id\":\"1189\",\"type\":\"CDSView\"},{\"attributes\":{},\"id\":\"1205\",\"type\":\"CategoricalTickFormatter\"},{\"attributes\":{},\"id\":\"1209\",\"type\":\"Selection\"},{\"attributes\":{},\"id\":\"1181\",\"type\":\"CategoricalTicker\"},{\"attributes\":{\"data_source\":{\"id\":\"1163\",\"type\":\"ColumnDataSource\"},\"glyph\":{\"id\":\"1186\",\"type\":\"HBar\"},\"hover_glyph\":null,\"muted_glyph\":null,\"nonselection_glyph\":{\"id\":\"1187\",\"type\":\"HBar\"},\"selection_glyph\":null,\"view\":{\"id\":\"1189\",\"type\":\"CDSView\"}},\"id\":\"1188\",\"type\":\"GlyphRenderer\"},{\"attributes\":{\"formatter\":{\"id\":\"1205\",\"type\":\"CategoricalTickFormatter\"},\"ticker\":{\"id\":\"1181\",\"type\":\"CategoricalTicker\"}},\"id\":\"1180\",\"type\":\"CategoricalAxis\"},{\"attributes\":{},\"id\":\"1210\",\"type\":\"UnionRenderers\"},{\"attributes\":{\"axis_label\":\"Time\",\"formatter\":{\"id\":\"1207\",\"type\":\"BasicTickFormatter\"},\"ticker\":{\"id\":\"1176\",\"type\":\"BasicTicker\"}},\"id\":\"1175\",\"type\":\"LinearAxis\"},{\"attributes\":{},\"id\":\"1173\",\"type\":\"CategoricalScale\"}],\"root_ids\":[\"1164\"]},\"title\":\"Bokeh Application\",\"version\":\"1.4.0\"}};\n  var render_items = [{\"docid\":\"6ac6049d-60cd-421f-a592-50218008958c\",\"roots\":{\"1164\":\"fa2a487e-158e-4796-9283-4741b8141b1c\"}}];\n  root.Bokeh.embed.embed_items_notebook(docs_json, render_items);\n\n  }\n  if (root.Bokeh !== undefined) {\n    embed_document(root);\n  } else {\n    var attempts = 0;\n    var timer = setInterval(function(root) {\n      if (root.Bokeh !== undefined) {\n        clearInterval(timer);\n        embed_document(root);\n      } else {\n        attempts++;\n        if (attempts > 100) {\n          clearInterval(timer);\n          console.log(\"Bokeh: ERROR: Unable to run BokehJS code because BokehJS library is missing\");\n        }\n      }\n    }, 10, root)\n  }\n})(window);",
      "application/vnd.bokehjs_exec.v0+json": ""
     },
     "execution_count": 31,
     "metadata": {
      "application/vnd.bokehjs_exec.v0+json": {
       "id": "1164"
      }
     },
     "output_type": "execute_result"
    }
   ],
   "source": [
    "# use bokeh to make a Gantt chart\n",
    "from bokeh.io import show, output_notebook\n",
    "from bokeh.models import ColumnDataSource\n",
    "from bokeh.plotting import figure\n",
    "\n",
    "output_notebook()\n",
    "starts = [solver.Value(start_vars[i]) for i in range(num_tasks)]\n",
    "ends = [solver.Value(end_vars[i]) for i in range(num_tasks)]\n",
    "\n",
    "source = ColumnDataSource(data=dict(tasks=task_names, starts = starts, ends=ends))\n",
    "\n",
    "p = figure(x_range=(0,solver.ObjectiveValue()), y_range=task_names, plot_height=350, title=\"Task Time Spans\",\n",
    "           toolbar_location=None, tools=\"\")\n",
    "\n",
    "p.hbar(y='tasks', left='starts', right='ends', height=0.9, source=source)\n",
    "\n",
    "p.xaxis.axis_label = \"Time\"\n",
    "p.ygrid.grid_line_color = None\n",
    "\n",
    "show(p)"
   ]
  }
 ],
 "metadata": {
  "kernelspec": {
   "display_name": "Python 3 (system-wide)",
   "language": "python",
   "metadata": {
    "cocalc": {
     "description": "Python 3 programming language",
     "priority": 100,
     "url": "https://www.python.org/"
    }
   },
   "name": "python3"
  },
  "language_info": {
   "codemirror_mode": {
    "name": "ipython",
    "version": 3
   },
   "file_extension": ".py",
   "mimetype": "text/x-python",
   "name": "python",
   "nbconvert_exporter": "python",
   "pygments_lexer": "ipython3",
   "version": "3.6.9"
  },
  "toc": {
   "base_numbering": 1,
   "nav_menu": {
   },
   "number_sections": true,
   "sideBar": true,
   "skip_h1_title": false,
   "title_cell": "Table of Contents",
   "title_sidebar": "Contents",
   "toc_cell": false,
   "toc_position": {
   },
   "toc_section_display": true,
   "toc_window_display": false
  }
 },
 "nbformat": 4,
 "nbformat_minor": 4
}