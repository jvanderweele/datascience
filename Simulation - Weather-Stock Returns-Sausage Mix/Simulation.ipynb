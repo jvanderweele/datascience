{
 "cells": [
  {
   "cell_type": "code",
   "execution_count": 1,
   "metadata": {
    "code_folding": [
    ],
    "collapsed": false
   },
   "outputs": [
   ],
   "source": [
    "# execute to import notebook styling for tables and width etc.\n",
    "from IPython.core.display import HTML\n",
    "import urllib.request\n",
    "# bring in needed packages\n",
    "import numpy as np\n",
    "import matplotlib.pyplot as plt\n",
    "import babel.numbers as numbers\n",
    "import seaborn as sns\n",
    "import pandas as pd\n",
    "from pyomo.environ import *\n",
    "sns.set_style(\"darkgrid\")\n",
    "import matplotlib.pyplot as plt\n",
    "response = urllib.request.urlopen('https://raw.githubusercontent.com/DataScienceUWL/DS775v2/master/ds755.css')\n",
    "HTML(response.read().decode(\"utf-8\"));"
   ]
  },
  {
   "cell_type": "markdown",
   "metadata": {
    "collapsed": false
   },
   "source": [
    "<font size=18>Lesson 08 Homework</font>"
   ]
  },
  {
   "cell_type": "markdown",
   "metadata": {
    "collapsed": false
   },
   "source": [
    "# Textbook Problem 20.1-2"
   ]
  },
  {
   "cell_type": "markdown",
   "metadata": {
    "collapsed": false
   },
   "source": [
    "The weather can be considered a stochastic system, because it evolves in a probabilistic manner from one day to the next. Suppose for a certain location that this probabilistic series satisfies the following description:\n",
    "\n",
    "The probability of rain tomorrow is 0.6 if it is raining today. The probability of its being clear (no rain) tomorrow is 0.8 if it is clear today.\n",
    "\n",
    "We've modified the problem a bit from the text book:  use uniformly distributed random numbers to simulate a sequence of 1000 days starting from a clear day.  Your code should output the the approximate probability of a rainy day based on your simulation results.\n",
    "\n",
    "<font color = \"blue\"> *** 6 points -  answer in cell below *** (don't delete this cell) </font>"
   ]
  },
  {
   "cell_type": "code",
   "execution_count": 2,
   "metadata": {
    "collapsed": false,
    "scrolled": true
   },
   "outputs": [
    {
     "name": "stdout",
     "output_type": "stream",
     "text": [
      "The approximate probability of a rainy day based on a simulation size of 1000 days is 0.34\n"
     ]
    }
   ],
   "source": [
    "# set the size of the simulation\n",
    "SimSize = 1000\n",
    "\n",
    "# initialize the array to the desired size and data type (string in this case)\n",
    "np.random.seed(seed=635) #set seed\n",
    "weather = np.full(shape=SimSize, fill_value=\"Weather\") #generate probabilities\n",
    "myprobs = np.full(shape=SimSize, fill_value=None) #used to check the probability value assigned to a day\n",
    "\n",
    "# capture each simulation run using an index (i in this case)\n",
    "for i in range(SimSize):\n",
    "    rand = np.random.uniform(low=0.0, high=1.0, size=1)\n",
    "    myprobs[i] = [rand, i] #store the probabilities for analysis\n",
    "    if i == 0: #start with first day being:\n",
    "        weather[i] = \"clear\"\n",
    "    else:\n",
    "        if (weather[i-1]==\"clear\" and rand < 0.80): #if yesterday clear and prob of today .80 then clear:\n",
    "            weather[i] = \"clear\"\n",
    "        elif (weather[i-1]==\"clear\" and rand >= 0.80):  #if yesterday clear and prob of today not .80 then rain:\n",
    "            weather[i] = \"rain\"\n",
    "        elif (weather[i-1]==\"rain\" and rand < 0.60): #if yesterday rain and prob of today .60 then rain:\n",
    "            weather[i] = \"rain\"\n",
    "        elif (weather[i-1]==\"rain\" and rand >= 0.60): #if yesterday rain and prob of today not .60 then clear:\n",
    "            weather[i] = \"clear\"\n",
    "\n",
    "# summarize the counts in a frequency table\n",
    "unique_elements, counts_elements = np.unique(weather, return_counts=True)\n",
    "\n",
    "# print the approximate probability of a rainy day (always will be the 2nd element in the array b/c we start with clear day):\n",
    "print(\"The approximate probability of a rainy day based on a simulation size of {:0} days is {:2.2f}\".format(SimSize, counts_elements[1]/SimSize))"
   ]
  },
  {
   "cell_type": "markdown",
   "metadata": {
    "collapsed": false
   },
   "source": [
    "# Textbook Problem 20.6-7"
   ]
  },
  {
   "cell_type": "markdown",
   "metadata": {
    "collapsed": false
   },
   "source": [
    "Now that Jennifer is in middle school, her parents have decided that they really must start saving for her college education. They have \\$10,000 to invest right now. Furthermore, they plan to save another \\$4,000 each year until Jennifer starts college five years from now. They plan to split their investment evenly between a stock fund and a bond fund. Historically, the stock fund has had an average annual return of 8 percent with a standard deviation of 6 percent. The bond fund has had an average annual return of 4 percent with a standard deviation of 3 percent. (Assume a normal distribution for both.)\n",
    "Assume that the initial investment (\\$10,000) is made right now (year 0) and is split evenly between the two funds (i.e., \\$5,000 in each fund). The returns of each fund are allowed to accumulate (i.e., are reinvested) in the same fund and no redistribution will be done before Jennifer starts college. Furthermore, four additional investments of \\$4,000 will be made and split evenly between both funds (\\$2,000 each) at the end of year 1, year 2, year 3, and year 4, plus another \\$4,000 of savings will be available at the end of year 5, just in time for Jennifer to begin college. Use a 1000-trial simulation to estimate each of the following.\n",
    "\n",
    "**(a)** What will be the expected value (mean) of the college fund\n",
    "at the end of year 5?\n",
    "\n",
    "**(b)** What will be the standard deviation of the college fund at the\n",
    "end of year 5?\n",
    "\n",
    "**(c)** What is the probability that the college fund at the end of year\n",
    "5 will be at least \\$35,000?\n",
    "\n",
    "**(d)** What is the probability that the college fund at the end of year\n",
    "5 will be at least \\$40,000?\n",
    "\n",
    "You can put all your code in one cell and print out the answers to (a)-(d) in a nicely formatted fashion please.  Your answers should be formatted as currency to the nearest $0.01.\n",
    "\n",
    "<font color = \"blue\"> *** 12 points -  answer in cell below *** (don't delete this cell) </font>"
   ]
  },
  {
   "cell_type": "code",
   "execution_count": 3,
   "metadata": {
    "collapsed": false,
    "scrolled": true
   },
   "outputs": [
    {
     "name": "stdout",
     "output_type": "stream",
     "text": [
      "a. The mean value is $34,226.74\n",
      "b. The standard deviation of the value is $1,344.11\n",
      "c. The probability of value at least $35k is 0.270\n",
      "d. The probability of value at least $40k is 0.000\n"
     ]
    }
   ],
   "source": [
    "np.random.seed(seed=1) # specify a seed to reproduce the simulation exactly\n",
    "sim_size = 1000  # set number of trials in the simulation\n",
    "\n",
    "# establish the constants in the simulation\n",
    "initial_investment = 10000 #initial investment\n",
    "split_stockpercent = .5 # % of stock split\n",
    "eachyear = 4000 #amount each year\n",
    "addlamt = 4000 #amount at end of years\n",
    "years = [i for i in range(5)] #number of years\n",
    "stockreturn = .08 #stock annual return\n",
    "stocksd = .06 #normal\n",
    "bondreturn = .04\n",
    "bondsd = .03 #normal\n",
    "\n",
    "#Create 1000 values of random numbers for each of 5 years return (can't use the same random number for each year within a simulation iteration)\n",
    "rand_stock_return_year = [np.random.normal(loc=stockreturn,scale=stocksd,size=sim_size) for y in years] #stock return, normal dist (zero/negative is allowed b/c you could have losing years)\n",
    "rand_bond_return_year = [np.random.normal(loc=bondreturn,scale=bondsd,size=sim_size) for y in years] #bond return, normal dist (zero/negative is allowed b/c you could have losing years)\n",
    "\n",
    "\n",
    "def return_simulator(sim_size):\n",
    "    totalvalue = np.zeros(sim_size)\n",
    "    for i in range(sim_size):\n",
    "        for year in years:\n",
    "            #Hardcoding the years because this problem is specific, could adapt for other year values...\n",
    "            if year == 0: #if we're in the first year\n",
    "                totalstock = initial_investment * split_stockpercent #start with the initial investment % to stocks\n",
    "                totalbond = initial_investment * (1-split_stockpercent) #start with the initial investment % to bonds\n",
    "            elif (year > 0 and year <= 4): #if we're in subsequent years, including year 4 (4 years X $4000)\n",
    "                totalstock = totalstock * (1+rand_stock_return_year[year][i]) #multiply times the year times the simulation iteration\n",
    "                totalbond = totalbond * (1+rand_bond_return_year[year][i]) #multiply times the year times the simulation iteration\n",
    "                totalstock += eachyear*.5 #if we do this here, it will be in there at end of year 1, with the return for year 2\n",
    "                totalbond += eachyear*.5 #if we do this here, it will be in there at end of year 1, with the return for year 2\n",
    "            if year == 4: #we also need to add the add'l amount after the 4th year\n",
    "                totalstock += addlamt*.5 #this is the final additional amount, split evenly\n",
    "                totalbond += addlamt*.5 #this is the final additional amount, split evenly\n",
    "        totalvalue[i] = totalstock + totalbond\n",
    "    return (totalvalue)\n",
    "\n",
    "value = return_simulator(sim_size)\n",
    "\n",
    "# summarize results\n",
    "print(\"a. The mean value is\",\n",
    "      numbers.format_currency(np.mean(value), 'USD', locale='en_US'))\n",
    "print(\"b. The standard deviation of the value is\",\n",
    "      numbers.format_currency(np.std(value), 'USD', locale='en_US'))\n",
    "p35 = np.sum(value >= 35000) / sim_size #total count of simulated amounts over simsize\n",
    "p40 = np.sum(value >= 40000) / sim_size #total count of simulated amounts over simsize\n",
    "print(\"c. The probability of value at least $35k is {:0.3f}\".format(p35))\n",
    "print(\"d. The probability of value at least $40k is {:0.3f}\".format(p40))"
   ]
  },
  {
   "cell_type": "markdown",
   "metadata": {
    "collapsed": false
   },
   "source": [
    "# Textbook Problem 20.6-9"
   ]
  },
  {
   "cell_type": "markdown",
   "metadata": {
    "collapsed": false
   },
   "source": [
    "Road Pavers, Inc. (RPI) is considering bidding on a county road construction project. RPI has estimated that the cost of this particular project would be \\$5 million. In addition, the cost of putting together a bid is estimated to be \\$50,000. The county also will receive four other bids on the project from competitors of RPI. Past experience with these competitors suggests that each competitor’s bid is most likely to be 20 percent over the project cost of \\$5 million, but could be as low as 5 percent over or as much as 40 percent over this cost. Assume a triangular distribution for each of these bids.\n",
    "\n",
    "**(a)** Suppose that RPI bids \\$5.7 million on the project. Perform 1,000 trials of a simulation. What is the probability that RPI will win the bid? What is RPI’s mean profit?\n",
    "\n",
    "<font color = \"blue\"> *** 4 points -  answer in cell below *** (don't delete this cell) </font>"
   ]
  },
  {
   "cell_type": "code",
   "execution_count": 4,
   "metadata": {
    "collapsed": false
   },
   "outputs": [
    {
     "name": "stdout",
     "output_type": "stream",
     "text": [
      "The probability RPI will win the bid is 0.529\n",
      "Considering profit would either be -50000 or 650000, the mean profit is $320,300.00\n"
     ]
    }
   ],
   "source": [
    "np.random.seed(seed=1) # specify a seed to reproduce the simulation exactly\n",
    "SimSize = 1000\n",
    "project_cost = 5000000\n",
    "cost_to_bid = 50000\n",
    "rpi_bid = 5700000\n",
    "left = (1+.05)*project_cost\n",
    "mode = (1+.20)*project_cost\n",
    "right = (1+.40)*project_cost\n",
    "\n",
    "# Generate random observations for the 4 competitors for the entire simultion\n",
    "comp1 = np.random.triangular(left, mode, right, size=SimSize)\n",
    "comp2 = np.random.triangular(left, mode, right, size=SimSize)\n",
    "comp3 = np.random.triangular(left, mode, right, size=SimSize)\n",
    "comp4 = np.random.triangular(left, mode, right, size=SimSize)\n",
    "\n",
    "# create an array of competitor bids\n",
    "compbids = np.array([comp1,comp2,comp3,comp4])\n",
    "# find the min of each column, which is the lowest bid\n",
    "lowestbid = np.amin(compbids,axis=0) #axis 0 goes across columns to get, for each iteration, the minimum\n",
    "prob = np.sum(lowestbid >= rpi_bid) / SimSize #total count of simulated amounts where competitor is over our bid over simsize\n",
    "\n",
    "#Work through profit calcs:\n",
    "profit = np.zeros(SimSize)\n",
    "for i in range(SimSize):\n",
    "    win = 0\n",
    "    if lowestbid[i] >= rpi_bid:\n",
    "        win = 1\n",
    "    #take our bid, subtract project cost but only if we win, then subtract cost to bid on all bids\n",
    "    profit[i] = (rpi_bid - project_cost)*win - cost_to_bid\n",
    "\n",
    "# summarize results\n",
    "print(\"The probability RPI will win the bid is\",\n",
    "      numbers.format_decimal(prob))\n",
    "print(\"Considering profit would either be -50000 or 650000, the mean profit is\",\n",
    "      numbers.format_currency(np.mean(profit), 'USD', locale='en_US'))"
   ]
  },
  {
   "cell_type": "markdown",
   "metadata": {
    "collapsed": false
   },
   "source": [
    "**(b)** Generate a parameter analysis report to consider eight possible bids between \\\\$5.3 million and $6 million in order to forecast RPI’s mean profit for each bid. Which of these bids maximizes RPI’s mean profit?\n",
    "\n",
    "<font color = \"blue\"> *** 4 points -  answer in cell below *** (don't delete this cell) </font>"
   ]
  },
  {
   "cell_type": "code",
   "execution_count": 36,
   "metadata": {
    "collapsed": false
   },
   "outputs": [
    {
     "name": "stdout",
     "output_type": "stream",
     "text": [
      "The bid that maximizes profit in the simulation:\n",
      "\n",
      "   Bid Amount  Probability of Winning  Mean Profit\n",
      "7   6000000.0                   0.107     950000.0\n",
      "\n",
      "Overall Simulated Outcomes:\n"
     ]
    },
    {
     "data": {
      "text/html": [
       "<div>\n",
       "<style scoped>\n",
       "    .dataframe tbody tr th:only-of-type {\n",
       "        vertical-align: middle;\n",
       "    }\n",
       "\n",
       "    .dataframe tbody tr th {\n",
       "        vertical-align: top;\n",
       "    }\n",
       "\n",
       "    .dataframe thead th {\n",
       "        text-align: right;\n",
       "    }\n",
       "</style>\n",
       "<table border=\"1\" class=\"dataframe\">\n",
       "  <thead>\n",
       "    <tr style=\"text-align: right;\">\n",
       "      <th></th>\n",
       "      <th>Bid Amount</th>\n",
       "      <th>Probability of Winning</th>\n",
       "      <th>Mean Profit</th>\n",
       "    </tr>\n",
       "  </thead>\n",
       "  <tbody>\n",
       "    <tr>\n",
       "      <th>0</th>\n",
       "      <td>5300000.0</td>\n",
       "      <td>0.991</td>\n",
       "      <td>250000.0</td>\n",
       "    </tr>\n",
       "    <tr>\n",
       "      <th>1</th>\n",
       "      <td>5400000.0</td>\n",
       "      <td>0.924</td>\n",
       "      <td>350000.0</td>\n",
       "    </tr>\n",
       "    <tr>\n",
       "      <th>2</th>\n",
       "      <td>5500000.0</td>\n",
       "      <td>0.819</td>\n",
       "      <td>450000.0</td>\n",
       "    </tr>\n",
       "    <tr>\n",
       "      <th>3</th>\n",
       "      <td>5600000.0</td>\n",
       "      <td>0.692</td>\n",
       "      <td>550000.0</td>\n",
       "    </tr>\n",
       "    <tr>\n",
       "      <th>4</th>\n",
       "      <td>5700000.0</td>\n",
       "      <td>0.529</td>\n",
       "      <td>650000.0</td>\n",
       "    </tr>\n",
       "    <tr>\n",
       "      <th>5</th>\n",
       "      <td>5800000.0</td>\n",
       "      <td>0.362</td>\n",
       "      <td>750000.0</td>\n",
       "    </tr>\n",
       "    <tr>\n",
       "      <th>6</th>\n",
       "      <td>5900000.0</td>\n",
       "      <td>0.198</td>\n",
       "      <td>850000.0</td>\n",
       "    </tr>\n",
       "    <tr>\n",
       "      <th>7</th>\n",
       "      <td>6000000.0</td>\n",
       "      <td>0.107</td>\n",
       "      <td>950000.0</td>\n",
       "    </tr>\n",
       "  </tbody>\n",
       "</table>\n",
       "</div>"
      ],
      "text/plain": [
       "   Bid Amount  Probability of Winning  Mean Profit\n",
       "0   5300000.0                   0.991     250000.0\n",
       "1   5400000.0                   0.924     350000.0\n",
       "2   5500000.0                   0.819     450000.0\n",
       "3   5600000.0                   0.692     550000.0\n",
       "4   5700000.0                   0.529     650000.0\n",
       "5   5800000.0                   0.362     750000.0\n",
       "6   5900000.0                   0.198     850000.0\n",
       "7   6000000.0                   0.107     950000.0"
      ]
     },
     "execution_count": 36,
     "metadata": {
     },
     "output_type": "execute_result"
    }
   ],
   "source": [
    "def profit_stats(bid):\n",
    "    myprob = np.sum(lowestbid >= bid) / SimSize #total count of simulated amounts where competitor is over our bid over simsize\n",
    "    #Work through profit calcs:\n",
    "    myprofit = np.zeros(SimSize)\n",
    "    winlist = [] #for use in later problem\n",
    "    for i in range(SimSize):\n",
    "        win = 0\n",
    "        if lowestbid[i] >= bid:\n",
    "            win = 1\n",
    "        #take our bid, subtract project cost but only if we win, then subtract cost to bid on all bids\n",
    "        myprofit = (bid - project_cost)*win - cost_to_bid\n",
    "    return(myprob, myprofit)\n",
    "\n",
    "bid_options = np.linspace(5300000, 6000000, 8)\n",
    "num_bids = len(bid_options)\n",
    "prob_i = np.zeros(num_bids)\n",
    "profit_i = np.zeros(num_bids)\n",
    "\n",
    "\n",
    "for i in range(num_bids):\n",
    "    prob_i[i], profit_i[i] = profit_stats(bid_options[i])\n",
    "\n",
    "# put results in dataframe for nice display and plotting in next cell\n",
    "df = pd.DataFrame({\n",
    "    'Bid Amount': bid_options,\n",
    "    'Probability of Winning': prob_i,\n",
    "    'Mean Profit': profit_i\n",
    "})\n",
    "print('The bid that maximizes profit in the simulation:')\n",
    "print()\n",
    "print(df[df['Mean Profit'] == df['Mean Profit'].max()])\n",
    "print()\n",
    "print('Overall Simulated Outcomes:')\n",
    "df"
   ]
  },
  {
   "cell_type": "markdown",
   "metadata": {
    "collapsed": false
   },
   "source": [
    "**(c)** Generate a trend chart for the eight bids considered in part (b).\n",
    "\n",
    "<font color = \"blue\"> *** 4 points -  answer in cell below *** (don't delete this cell) </font>"
   ]
  },
  {
   "cell_type": "code",
   "execution_count": 20,
   "metadata": {
    "collapsed": false
   },
   "outputs": [
    {
     "data": {
      "image/png": "[encoded data removed]",
      "text/plain": [
       "<Figure size 432x360 with 1 Axes>"
      ]
     },
     "execution_count": 20,
     "metadata": {
      "image/png": {
       "height": 333,
       "width": 405
      }
     },
     "output_type": "execute_result"
    }
   ],
   "source": [
    "# plot results and trend chart showing bid amounts and mean profit\n",
    "fig, ax = plt.subplots(figsize=(6, 5))\n",
    "ax.plot('Bid Amount','Mean Profit',data=df, linestyle='-', marker='o');\n",
    "plt.xlabel('Bid Amount', fontsize=12);\n",
    "plt.ylabel('Mean Profit', fontsize=12);\n",
    "plt.title(\"Trend Chart\");"
   ]
  },
  {
   "cell_type": "markdown",
   "metadata": {
    "collapsed": false
   },
   "source": [
    "**(d)** Perform an automated search to find the bid that maximizes RPI’s mean profit. (Use one of the optimization tools we've studied.)\n",
    "\n",
    "<font color = \"blue\"> *** 4 points -  answer in cell below *** (don't delete this cell) </font>"
   ]
  },
  {
   "cell_type": "code",
   "execution_count": 6,
   "metadata": {
    "collapsed": false,
    "scrolled": true
   },
   "outputs": [
    {
     "name": "stderr",
     "output_type": "stream",
     "text": [
      "WARNING: Some output was deleted.\n"
     ]
    }
   ],
   "source": [
    "project_cost = 5000000\n",
    "cost_to_bid = 50000\n",
    "rpi_bid = 5700000\n",
    "left = (1+.05)*project_cost\n",
    "mode = (1+.20)*project_cost\n",
    "right = (1+.40)*project_cost\n",
    "    \n",
    "def automated_search(seed):\n",
    "    np.random.seed(seed=seed) # specify a seed to reproduce the simulation exactly\n",
    "    SimSize = 1\n",
    "\n",
    "    # Generate random observations for the 4 competitors for the entire simultion\n",
    "    comp1 = np.random.triangular(left, mode, right, size=SimSize)\n",
    "    comp2 = np.random.triangular(left, mode, right, size=SimSize)\n",
    "    comp3 = np.random.triangular(left, mode, right, size=SimSize)\n",
    "    comp4 = np.random.triangular(left, mode, right, size=SimSize)\n",
    "    # create an array of competitor bids\n",
    "    compbids = np.array([comp1,comp2,comp3,comp4])\n",
    "    # find the min of each column, which is the lowest bid\n",
    "    lowestbid = np.amin(compbids,axis=0) #axis 0 goes across columns to get, for each iteration, the minimum\n",
    "    return(compbids, lowestbid)\n",
    "\n",
    "compnames = ['Competitor1', 'Competitor2', 'Competitor3', 'Competitor4']\n",
    "rounds = 1000\n",
    "wins = 0\n",
    "# I have this programmed to display if more than one competitor beats RPI, since that is possible\n",
    "# and would be good information to have. Example is round 10, there are two lower bids.\n",
    "for each in range(rounds):\n",
    "    compbids, lowestbid = automated_search(each)\n",
    "    indexval = 0\n",
    "    if rpi_bid < lowestbid:\n",
    "        print(f\"Round {each+1}: RPI wins with bid of: $ {rpi_bid}.\")\n",
    "        wins += 1\n",
    "    else:\n",
    "        for bid in compbids:\n",
    "            if bid < rpi_bid:\n",
    "                print(f\"Round {each+1}: {compnames[indexval]} wins with bid of: $ {bid}.\")\n",
    "            if bid == rpi_bid:\n",
    "                print(f\"Tie between {compnames[indexval]} and RPI with bid of: $ {bid}.\")\n",
    "            indexval+=1\n",
    "    each += 1\n",
    "#print overall probability based on simulation at amount\n",
    "print()\n",
    "print(f\"The probability based on simulation rounds of winning at {rpi_bid} amount is: {wins/rounds}\")\n",
    "print()\n",
    "print(f\"The average profit is: ${((rpi_bid-project_cost-cost_to_bid)*wins - cost_to_bid*(rounds-wins))/rounds}\")"
   ]
  },
  {
   "cell_type": "markdown",
   "metadata": {
    "collapsed": false
   },
   "source": [
    "# Sausage Making - Simulation with Optimization"
   ]
  },
  {
   "cell_type": "markdown",
   "metadata": {
    "collapsed": false
   },
   "source": [
    "We're going to revisit the Sausage Factory problem from Lessons 1 and 2, but this time, we're going to introduce uncertainty.\n",
    "\n",
    "In Lesson 2, we optimized the cost of our sausage making, by altering the ingredients in each sausage type to meet minimum requirements and fulfill a demand of 350 economy sausages and 500 premium sausages a week.\n",
    "\n",
    "In reality, our demand fluctuates week to week. \n",
    "\n",
    "The basic set up of the problem is the same.\n",
    "\n",
    "We're going to make sausages by blending pork, wheat, and starch.  Our objective is to minimize the cost of making the sausages.  The table below shows the ingredients available, the cost, and the amount of each ingredient available from our supplier:\n",
    "\n",
    "Ingredient | Cost ($/kg) | Amount (kg)\n",
    "-----------|------|--------------\n",
    "Pork       | 4.32 | 7 kg\n",
    "Wheat      | 2.46 | 20.0\n",
    "Starch     | 1.86 | 17\n",
    "\n",
    "\n",
    "\n",
    "We want to make 2 types of sausage:\n",
    "* Economy ( > 40\\% pork )\n",
    "* Premium ( > 60\\% pork )\n",
    "\n",
    "Each sausage is 50 grams (0.05 kg).  \n",
    "\n",
    "According to government regulations, the most starch we can use in our sausages is 25\\% by weight."
   ]
  },
  {
   "cell_type": "markdown",
   "metadata": {
    "collapsed": false
   },
   "source": [
    "**New Information:**"
   ]
  },
  {
   "cell_type": "markdown",
   "metadata": {
    "collapsed": false
   },
   "source": [
    "The price for pre-purchased pork is \\$3.10, for a discount of 1.12 per kg. We will be fairly conservative in our estimates of pre-purchase, and we are setting our minimum pork used to our pre-purchased amount, so we will only need to calculate the total discount in our objective, not a penalty for buying overage.  \n",
    "\n",
    "While our demand fluctuates, we know that our demand for economy sausages is between 325 and 375 each week and our demand for premium sausage is between 450 and 550 each week. Demand appears to be uniformly distributed (use `np.random.randint`).\n",
    "\n",
    "***This is a prescriptive analytics problem!  You are prescribing the amount of pork to buy under contract to minimize future cost in an uncertain future.***"
   ]
  },
  {
   "cell_type": "markdown",
   "metadata": {
    "collapsed": false
   },
   "source": [
    "**(a)** Write a function that takes in the amount of discount pork we will pre-purchase as a variable (x). \n",
    "\n",
    "Inside the function, write a 1000 iteration loop that solves the optimization problem with random variables for demand and x as your stand in for the minimum amount of discount pork produced. Track the amount of full-price pork used and the cost of each iteration and return both from your function.  \n",
    "\n",
    "You may base your Pyomo model on either the concrete or abstract formulations in Lesson 1 and Lesson 2 presentations, respectively.\n",
    "\n",
    "<font color = \"blue\"> *** 4 points -  answer in cell below *** (don't delete this cell) </font>"
   ]
  },
  {
   "cell_type": "code",
   "execution_count": 2,
   "metadata": {
    "collapsed": false,
    "scrolled": true
   },
   "outputs": [
   ],
   "source": [
    "def porkprogram(x, its):\n",
    "    ### Problem Data ###\n",
    "    mycosts = []\n",
    "    myamounts = []\n",
    "    iterations = its\n",
    "    economy_demand = np.random.randint(low=325, high=375, size=iterations)\n",
    "    premium_demand = np.random.randint(low=450, high=550, size=iterations)\n",
    "    for iters in range(iterations):\n",
    "        types = ['economy','premium']\n",
    "        ingredients = ['pork', 'wheat', 'starch']\n",
    "\n",
    "        cost = dict( zip( ingredients, [4.32, 2.46, 1.86] ) )\n",
    "\n",
    "        kg_per_sausage = 0.05\n",
    "        number_each_type = dict( zip( types, [economy_demand[iters], premium_demand[iters]] ) )\n",
    "\n",
    "        mnpi = [[.4,.6],[0,0],[0,0]]\n",
    "        min_prop_ing = { ingredients[i]:{ types[j]:mnpi[i][j] for j in range(len(types)) } for i in range(len(ingredients)) }\n",
    "        mxpi = [[1,1],[1,1],[.25,.25]]\n",
    "        max_prop_ing = { ingredients[i]:{ types[j]:mxpi[i][j] for j in range(len(types)) } for i in range(len(ingredients)) }\n",
    "\n",
    "        max_ingredient = dict( zip( ingredients, [30, 20, 17] ) ) #arbitrary max\n",
    "        min_ingredient = dict( zip( ingredients, [x,  0,  0] ) ) #x is max\n",
    "\n",
    "        min_prop_ing\n",
    "\n",
    "        ### Pyomo Model ###\n",
    "\n",
    "        # Concrete Model\n",
    "        M = ConcreteModel(name = \"Sausages\")\n",
    "\n",
    "        # Decision Variables\n",
    "        M.amount = Var(ingredients, types, domain = NonNegativeReals)\n",
    "\n",
    "        # Objective\n",
    "        M.cost = Objective( expr = sum( cost[i] * sum(M.amount[i,t] for t in types) - 1.22*x #must subtract the discount * our minimum\n",
    "                                       for i in ingredients), sense = minimize )\n",
    "\n",
    "        M.tot_sausages_ct = ConstraintList()\n",
    "        for t in types:\n",
    "            M.tot_sausages_ct.add( sum( M.amount[i,t] for i in ingredients ) \n",
    "                                 == kg_per_sausage * number_each_type[t] )\n",
    "\n",
    "        M.min_prop_ct = ConstraintList()\n",
    "        for i in ingredients:\n",
    "            for t in types:\n",
    "                M.min_prop_ct.add( M.amount[i,t] >= min_prop_ing[i][t] *\n",
    "                                 sum( M.amount[k,t] for k in ingredients ) )\n",
    "\n",
    "        M.max_prop_ct = ConstraintList()\n",
    "        for i in ingredients:\n",
    "            for t in types:\n",
    "                M.max_prop_ct.add( M.amount[i,t] <= max_prop_ing[i][t] * \n",
    "                                 sum( M.amount[k, t] for k in ingredients ) )\n",
    "\n",
    "        M.max_ingredient_ct = ConstraintList()\n",
    "        for i in ingredients:\n",
    "            M.max_ingredient_ct.add( sum( M.amount[ i, t] for t in types ) <= \n",
    "                                   max_ingredient[i] )\n",
    "\n",
    "        M.min_ingredient_ct = ConstraintList()\n",
    "        for i in ingredients:\n",
    "            M.min_ingredient_ct.add( sum( M.amount[ i, t] for t in types ) >=\n",
    "                                   min_ingredient[i] )\n",
    "\n",
    "        ### Solution ###\n",
    "        solver = SolverFactory('glpk')\n",
    "        solver.solve(M)\n",
    "        myamounts.append(M.amount['pork','economy']() + M.amount['pork', 'premium']())\n",
    "        mycosts.append(M.cost())\n",
    "    return(mycosts, myamounts)\n"
   ]
  },
  {
   "cell_type": "markdown",
   "metadata": {
    "collapsed": false
   },
   "source": [
    "**(b)** Test your function, using 20 as your value of x. Plot histograms of the Kilograms of Full-Price Pork purchased and the cost.\n",
    "\n",
    "<font color = \"blue\"> *** 4 points -  answer in cell below *** (don't delete this cell) </font>"
   ]
  },
  {
   "cell_type": "code",
   "execution_count": 3,
   "metadata": {
    "collapsed": false
   },
   "outputs": [
   ],
   "source": [
    "#calculate:\n",
    "cost, amount = porkprogram(20, 1000) #x, iterations"
   ]
  },
  {
   "cell_type": "code",
   "execution_count": 4,
   "metadata": {
    "collapsed": false
   },
   "outputs": [
    {
     "data": {
      "image/png": "[encoded data removed]",
      "text/plain": [
       "<Figure size 432x288 with 1 Axes>"
      ]
     },
     "execution_count": 4,
     "metadata": {
      "image/png": {
       "height": 259,
       "width": 384
      }
     },
     "output_type": "execute_result"
    }
   ],
   "source": [
    "# display Cost in a histogram\n",
    "fig, ax = plt.subplots(figsize=(6, 4));\n",
    "ax.hist(cost);\n",
    "plt.ylabel('Frequency', fontsize=8);\n",
    "plt.xlabel('Cost', fontsize=8);"
   ]
  },
  {
   "cell_type": "code",
   "execution_count": 5,
   "metadata": {
    "collapsed": false
   },
   "outputs": [
    {
     "data": {
      "image/png": "[encoded data removed]",
      "text/plain": [
       "<Figure size 432x288 with 1 Axes>"
      ]
     },
     "execution_count": 5,
     "metadata": {
      "image/png": {
       "height": 259,
       "width": 384
      }
     },
     "output_type": "execute_result"
    }
   ],
   "source": [
    "# display Cost in a histogram\n",
    "fig, ax = plt.subplots(figsize=(6, 4));\n",
    "ax.hist(amount);\n",
    "plt.ylabel('Frequency', fontsize=8);\n",
    "plt.xlabel('Amount (kg) of Full-Price Pork', fontsize=8);"
   ]
  },
  {
   "cell_type": "markdown",
   "metadata": {
    "collapsed": false
   },
   "source": [
    "Notice that the final cost and the amount of full-price pork purchased have distributions that fairly closely match each other. That's because full-price pork is the most expensive component of our sausages. The more full-price pork we use, the more expensive our product is. We'd like to optimize the amount of full-price pork we use."
   ]
  },
  {
   "cell_type": "markdown",
   "metadata": {
    "collapsed": false
   },
   "source": [
    "**(c)** Write a loop to call your function for all the values of pre-order quantities between and including 17 and 28.\n",
    "\n",
    "Store the values of:\n",
    "\n",
    "* pre-order quantities\n",
    "* the mean, 5th percentile and 95th percentile of the overage\n",
    "* the mean, 5th percentile and 95th percentile of the cost.\n",
    "\n",
    "After your loop, print the values in a dataframe.\n",
    "\n",
    "*Note: This may take a while to run.*\n",
    "\n",
    "<font color = \"blue\"> *** 4 points -  answer in cell below *** (don't delete this cell) </font>"
   ]
  },
  {
   "cell_type": "code",
   "execution_count": 52,
   "metadata": {
    "collapsed": false,
    "scrolled": true
   },
   "outputs": [
    {
     "data": {
      "text/html": [
       "<div>\n",
       "<style scoped>\n",
       "    .dataframe tbody tr th:only-of-type {\n",
       "        vertical-align: middle;\n",
       "    }\n",
       "\n",
       "    .dataframe tbody tr th {\n",
       "        vertical-align: top;\n",
       "    }\n",
       "\n",
       "    .dataframe thead th {\n",
       "        text-align: right;\n",
       "    }\n",
       "</style>\n",
       "<table border=\"1\" class=\"dataframe\">\n",
       "  <thead>\n",
       "    <tr style=\"text-align: right;\">\n",
       "      <th></th>\n",
       "      <th>PreorderQuantities</th>\n",
       "      <th>MeanOverage</th>\n",
       "      <th>Overage_Pctl_05</th>\n",
       "      <th>Overage_Pctl_95</th>\n",
       "      <th>MeanCost</th>\n",
       "      <th>Cost_Pctl_05</th>\n",
       "      <th>Cost_Pctl_95</th>\n",
       "    </tr>\n",
       "  </thead>\n",
       "  <tbody>\n",
       "    <tr>\n",
       "      <th>0</th>\n",
       "      <td>17</td>\n",
       "      <td>4.97275</td>\n",
       "      <td>3.4990</td>\n",
       "      <td>6.4500</td>\n",
       "      <td>76.685600</td>\n",
       "      <td>67.727670</td>\n",
       "      <td>85.659090</td>\n",
       "    </tr>\n",
       "    <tr>\n",
       "      <th>1</th>\n",
       "      <td>18</td>\n",
       "      <td>3.96502</td>\n",
       "      <td>2.5400</td>\n",
       "      <td>5.4105</td>\n",
       "      <td>73.011684</td>\n",
       "      <td>64.400400</td>\n",
       "      <td>81.843795</td>\n",
       "    </tr>\n",
       "    <tr>\n",
       "      <th>2</th>\n",
       "      <td>19</td>\n",
       "      <td>2.97996</td>\n",
       "      <td>1.5700</td>\n",
       "      <td>4.4500</td>\n",
       "      <td>69.408116</td>\n",
       "      <td>61.053270</td>\n",
       "      <td>78.188040</td>\n",
       "    </tr>\n",
       "    <tr>\n",
       "      <th>3</th>\n",
       "      <td>20</td>\n",
       "      <td>2.01830</td>\n",
       "      <td>0.5395</td>\n",
       "      <td>3.4705</td>\n",
       "      <td>65.989214</td>\n",
       "      <td>57.171540</td>\n",
       "      <td>74.884995</td>\n",
       "    </tr>\n",
       "    <tr>\n",
       "      <th>4</th>\n",
       "      <td>21</td>\n",
       "      <td>1.02037</td>\n",
       "      <td>0.0000</td>\n",
       "      <td>2.4100</td>\n",
       "      <td>62.139601</td>\n",
       "      <td>54.369000</td>\n",
       "      <td>70.675560</td>\n",
       "    </tr>\n",
       "    <tr>\n",
       "      <th>5</th>\n",
       "      <td>22</td>\n",
       "      <td>0.39156</td>\n",
       "      <td>0.0000</td>\n",
       "      <td>1.4205</td>\n",
       "      <td>59.269576</td>\n",
       "      <td>52.338000</td>\n",
       "      <td>67.357230</td>\n",
       "    </tr>\n",
       "    <tr>\n",
       "      <th>6</th>\n",
       "      <td>23</td>\n",
       "      <td>0.05006</td>\n",
       "      <td>0.0000</td>\n",
       "      <td>0.4200</td>\n",
       "      <td>56.532931</td>\n",
       "      <td>50.422500</td>\n",
       "      <td>63.444120</td>\n",
       "    </tr>\n",
       "    <tr>\n",
       "      <th>7</th>\n",
       "      <td>24</td>\n",
       "      <td>0.00000</td>\n",
       "      <td>0.0000</td>\n",
       "      <td>0.0000</td>\n",
       "      <td>54.906970</td>\n",
       "      <td>48.969000</td>\n",
       "      <td>60.981000</td>\n",
       "    </tr>\n",
       "    <tr>\n",
       "      <th>8</th>\n",
       "      <td>25</td>\n",
       "      <td>0.00000</td>\n",
       "      <td>0.0000</td>\n",
       "      <td>0.0000</td>\n",
       "      <td>53.072898</td>\n",
       "      <td>47.163225</td>\n",
       "      <td>59.181000</td>\n",
       "    </tr>\n",
       "    <tr>\n",
       "      <th>9</th>\n",
       "      <td>26</td>\n",
       "      <td>0.00000</td>\n",
       "      <td>0.0000</td>\n",
       "      <td>0.0000</td>\n",
       "      <td>51.202674</td>\n",
       "      <td>45.363225</td>\n",
       "      <td>57.265500</td>\n",
       "    </tr>\n",
       "    <tr>\n",
       "      <th>10</th>\n",
       "      <td>27</td>\n",
       "      <td>0.00000</td>\n",
       "      <td>0.0000</td>\n",
       "      <td>0.0000</td>\n",
       "      <td>49.382808</td>\n",
       "      <td>43.569000</td>\n",
       "      <td>55.471275</td>\n",
       "    </tr>\n",
       "    <tr>\n",
       "      <th>11</th>\n",
       "      <td>28</td>\n",
       "      <td>0.00000</td>\n",
       "      <td>0.0000</td>\n",
       "      <td>0.0000</td>\n",
       "      <td>47.663081</td>\n",
       "      <td>41.884500</td>\n",
       "      <td>53.781000</td>\n",
       "    </tr>\n",
       "  </tbody>\n",
       "</table>\n",
       "</div>"
      ],
      "text/plain": [
       "    PreorderQuantities  MeanOverage  Overage_Pctl_05  Overage_Pctl_95  \\\n",
       "0                   17      4.97275           3.4990           6.4500   \n",
       "1                   18      3.96502           2.5400           5.4105   \n",
       "2                   19      2.97996           1.5700           4.4500   \n",
       "3                   20      2.01830           0.5395           3.4705   \n",
       "4                   21      1.02037           0.0000           2.4100   \n",
       "5                   22      0.39156           0.0000           1.4205   \n",
       "6                   23      0.05006           0.0000           0.4200   \n",
       "7                   24      0.00000           0.0000           0.0000   \n",
       "8                   25      0.00000           0.0000           0.0000   \n",
       "9                   26      0.00000           0.0000           0.0000   \n",
       "10                  27      0.00000           0.0000           0.0000   \n",
       "11                  28      0.00000           0.0000           0.0000   \n",
       "\n",
       "     MeanCost  Cost_Pctl_05  Cost_Pctl_95  \n",
       "0   76.685600     67.727670     85.659090  \n",
       "1   73.011684     64.400400     81.843795  \n",
       "2   69.408116     61.053270     78.188040  \n",
       "3   65.989214     57.171540     74.884995  \n",
       "4   62.139601     54.369000     70.675560  \n",
       "5   59.269576     52.338000     67.357230  \n",
       "6   56.532931     50.422500     63.444120  \n",
       "7   54.906970     48.969000     60.981000  \n",
       "8   53.072898     47.163225     59.181000  \n",
       "9   51.202674     45.363225     57.265500  \n",
       "10  49.382808     43.569000     55.471275  \n",
       "11  47.663081     41.884500     53.781000  "
      ]
     },
     "execution_count": 52,
     "metadata": {
     },
     "output_type": "execute_result"
    }
   ],
   "source": [
    "preorder = range(17,29,1)\n",
    "mean_overage = []\n",
    "overage_05 = []\n",
    "overage_95 = []\n",
    "mean_cost = []\n",
    "cost_05 = []\n",
    "cost_95 = []\n",
    "for i in preorder:\n",
    "    cost, amount = porkprogram(i, 1000) #x, iterations\n",
    "    overage = np.array(amount) - np.array(i)\n",
    "    mean_overage.append(np.mean(overage)) #calc the overage\n",
    "    [ov05, ov95] = np.quantile(overage, [.05, .95])\n",
    "    overage_05.append(ov05)\n",
    "    overage_95.append(ov95)\n",
    "    mean_cost.append(np.mean(cost))\n",
    "    [co05, co95] = np.quantile(cost, [.05, .95])\n",
    "    cost_05.append(co05)\n",
    "    cost_95.append(co95)\n",
    "    \n",
    "# put results in dataframe for nice display and plotting in next cell\n",
    "df = pd.DataFrame({\n",
    "    'PreorderQuantities': preorder,\n",
    "    'MeanOverage': mean_overage,\n",
    "    'Overage_Pctl_05': overage_05,\n",
    "    'Overage_Pctl_95': overage_95,\n",
    "    'MeanCost': mean_cost,\n",
    "    'Cost_Pctl_05': cost_05,\n",
    "    'Cost_Pctl_95': cost_95\n",
    "})\n",
    "df"
   ]
  },
  {
   "cell_type": "markdown",
   "metadata": {
    "collapsed": false
   },
   "source": [
    "**(d)** Using the Freddie the Newsboy Simulation code, plot a trend chart that shows the overage by order quantity. \n",
    "\n",
    "Using the trend chart and the output from your dataframe, write a short summary explaining how much pre-purchased discount pork we should buy each week and why.\n",
    "\n",
    "<font color = \"blue\"> *** 4 points -  answer in cells below *** (don't delete this cell) </font>"
   ]
  },
  {
   "cell_type": "code",
   "execution_count": 53,
   "metadata": {
    "collapsed": false
   },
   "outputs": [
    {
     "name": "stderr",
     "output_type": "stream",
     "text": [
      "/usr/local/lib/python3.6/dist-packages/ipykernel/__main__.py:7: MatplotlibDeprecationWarning: Using a string of single character colors as a color sequence is deprecated. Use an explicit list instead.\n"
     ]
    },
    {
     "data": {
      "image/png": "[encoded data removed]",
      "text/plain": [
       "<Figure size 432x360 with 1 Axes>"
      ]
     },
     "execution_count": 53,
     "metadata": {
      "image/png": {
       "height": 333,
       "width": 377
      }
     },
     "output_type": "execute_result"
    }
   ],
   "source": [
    "# plot results and trend chart showing middle 90% of simulated profits for each order quantity\n",
    "fig, ax = plt.subplots(figsize=(6, 5))\n",
    "ax.plot('PreorderQuantities','MeanOverage',data=df, linestyle='-', marker='o');\n",
    "plt.xlabel('Order Quantity', fontsize=12);\n",
    "plt.ylabel('Overage', fontsize=12);\n",
    "plt.title(\"Trend Chart\");\n",
    "ax.fill_between('PreorderQuantities','Overage_Pctl_05','Overage_Pctl_95',data=df,color=\"#b9cfe7\", edgecolor=\"\");"
   ]
  },
  {
   "cell_type": "markdown",
   "metadata": {
    "collapsed": false
   },
   "source": [
    "Based on the analysis, we recommend pre-buying 23 kg of Pork. This amount falls right into the sweet spot of giving you potentially zero overage, but if there is overage it will be likely less than 1 kg. In addition, the mean cost is \\$56.53 and can fluctuate between about \\$50 and \\$63.\n",
    "\n",
    "The reason for this amount is because we want to reduce the overage but at the same time ensure we are meeting demand. By ordering 23kg, we are keeping costs low while still accounting for the variability of demand. Looking at the chart, we see between the 5th and 95th percentiles we have overage until we reach about 21 kg, where the 5th percentile drops to zero. While 21 or 22 kg would be sufficient, we want to squeeze even greater potential savings with the least amount of overage at the 95th percentile. In this way, 23 kg is more risky than 21 (could end up paying more if we're wrong), but it is going to save the most based on our simulation."
   ]
  }
 ],
 "metadata": {
  "kernelspec": {
   "display_name": "Python 3 (system-wide)",
   "language": "python",
   "metadata": {
    "cocalc": {
     "description": "Python 3 programming language",
     "priority": 100,
     "url": "https://www.python.org/"
    }
   },
   "name": "python3"
  },
  "language_info": {
   "codemirror_mode": {
    "name": "ipython",
    "version": 3
   },
   "file_extension": ".py",
   "mimetype": "text/x-python",
   "name": "python",
   "nbconvert_exporter": "python",
   "pygments_lexer": "ipython3",
   "version": "3.6.9"
  },
  "toc": {
   "base_numbering": 1,
   "nav_menu": {
   },
   "number_sections": true,
   "sideBar": true,
   "skip_h1_title": false,
   "title_cell": "Table of Contents",
   "title_sidebar": "Contents",
   "toc_cell": false,
   "toc_position": {
    "height": "calc(100% - 180px)",
    "left": "10px",
    "top": "150px",
    "width": "258.906px"
   },
   "toc_section_display": true,
   "toc_window_display": true
  },
  "varInspector": {
   "cols": {
    "lenName": 16,
    "lenType": 16,
    "lenVar": 40
   },
   "kernels_config": {
    "python": {
     "delete_cmd_postfix": "",
     "delete_cmd_prefix": "del ",
     "library": "var_list.py",
     "varRefreshCmd": "print(var_dic_list())"
    },
    "r": {
     "delete_cmd_postfix": ") ",
     "delete_cmd_prefix": "rm(",
     "library": "var_list.r",
     "varRefreshCmd": "cat(var_dic_list()) "
    }
   },
   "types_to_exclude": [
    "module",
    "function",
    "builtin_function_or_method",
    "instance",
    "_Feature"
   ],
   "window_display": false
  }
 },
 "nbformat": 4,
 "nbformat_minor": 4
}